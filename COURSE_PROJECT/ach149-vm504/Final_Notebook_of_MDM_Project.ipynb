{
 "cells": [
  {
   "cell_type": "code",
   "execution_count": null,
   "metadata": {
    "colab": {
     "base_uri": "https://localhost:8080/"
    },
    "id": "rQ_Ro2t4kwj7",
    "outputId": "2ea408fd-3289-4e11-e5da-c8f49fc224ff"
   },
   "outputs": [
    {
     "name": "stdout",
     "output_type": "stream",
     "text": [
      "Mounted at /content/gdrive\n"
     ]
    }
   ],
   "source": [
    "from google.colab import drive\n",
    "drive.mount('/content/gdrive')"
   ]
  },
  {
   "cell_type": "code",
   "execution_count": 1,
   "metadata": {
    "id": "IZzV8ebRlOj0"
   },
   "outputs": [],
   "source": [
    "import pandas as pd\n",
    "import numpy as np\n",
    "import itertools \n",
    "import matplotlib.pyplot as plt\n",
    "import seaborn as sns\n",
    "import math\n",
    "from datetime import date\n",
    "from collections import defaultdict\n",
    "\n",
    "%matplotlib inline"
   ]
  },
  {
   "cell_type": "markdown",
   "metadata": {
    "id": "u-CXJTS4n-ht"
   },
   "source": [
    "# Importing and Cleaning"
   ]
  },
  {
   "cell_type": "code",
   "execution_count": 2,
   "metadata": {
    "id": "i98p8lyqk5sm"
   },
   "outputs": [],
   "source": [
    "jsonFile = 'Digital_Music_5.json'\n",
    "df = pd.read_json(jsonFile, lines=True)\n",
    "# df.to_csv('DigitalMusicReviews.csv', sep=',', index=False)"
   ]
  },
  {
   "cell_type": "code",
   "execution_count": 3,
   "metadata": {
    "colab": {
     "base_uri": "https://localhost:8080/"
    },
    "id": "_PX58E0cmIZy",
    "outputId": "06bcd6f9-1c67-460a-c284-da822f13bfd8"
   },
   "outputs": [
    {
     "name": "stdout",
     "output_type": "stream",
     "text": [
      "Dataframe shape :  (169781, 12)\n",
      "Nan values per column overall                0\n",
      "vote              162170\n",
      "verified               0\n",
      "reviewTime             0\n",
      "reviewerID             0\n",
      "asin                   0\n",
      "style              11792\n",
      "reviewerName           5\n",
      "reviewText           158\n",
      "summary               36\n",
      "unixReviewTime         0\n",
      "image             169599\n",
      "dtype: int64\n"
     ]
    }
   ],
   "source": [
    "print(\"Dataframe shape : \", df.shape)\n",
    "print(\"Nan values per column\",df.isna().sum())"
   ]
  },
  {
   "cell_type": "code",
   "execution_count": 4,
   "metadata": {
    "colab": {
     "base_uri": "https://localhost:8080/"
    },
    "id": "YGsQg1nMY4MQ",
    "outputId": "d49d8c84-1179-4759-a9aa-cfe9568dc3f5"
   },
   "outputs": [
    {
     "data": {
      "text/plain": [
       "overall             0\n",
       "verified            0\n",
       "reviewTime          0\n",
       "reviewerID          0\n",
       "asin                0\n",
       "reviewerName        5\n",
       "reviewText        158\n",
       "summary            36\n",
       "unixReviewTime      0\n",
       "dtype: int64"
      ]
     },
     "execution_count": 4,
     "metadata": {},
     "output_type": "execute_result"
    }
   ],
   "source": [
    "# Dropping columns - style image and vote\n",
    "df.drop(['style','image','vote'],axis = 1, inplace=True)\n",
    "df.isna().sum()"
   ]
  },
  {
   "cell_type": "code",
   "execution_count": 5,
   "metadata": {
    "colab": {
     "base_uri": "https://localhost:8080/"
    },
    "id": "XZhHAwe3mPss",
    "outputId": "ba25288c-6475-4c29-c68b-46628d14498b"
   },
   "outputs": [
    {
     "name": "stdout",
     "output_type": "stream",
     "text": [
      "Dataframe shape after dropping nans :  (169606, 9)\n",
      "Nan values per column after dropping nans :  overall           0\n",
      "verified          0\n",
      "reviewTime        0\n",
      "reviewerID        0\n",
      "asin              0\n",
      "reviewerName      0\n",
      "reviewText        0\n",
      "summary           0\n",
      "unixReviewTime    0\n",
      "dtype: int64\n"
     ]
    }
   ],
   "source": [
    "# Dropping rows wil null values\n",
    "df.dropna(axis=0,inplace=True)\n",
    "print(\"Dataframe shape after dropping nans : \", df.shape)\n",
    "print(\"Nan values per column after dropping nans : \",df.isna().sum())"
   ]
  },
  {
   "cell_type": "code",
   "execution_count": 6,
   "metadata": {
    "id": "M6enTrPPo1ub"
   },
   "outputs": [],
   "source": [
    "df.rename(columns={\"overall\":\"rating\", \"asin\":\"productID\" }, inplace=True)"
   ]
  },
  {
   "cell_type": "code",
   "execution_count": 7,
   "metadata": {
    "id": "_xLEiebGnQmA"
   },
   "outputs": [],
   "source": [
    "# reviews_groupby_users_Ratings = df.groupby('reviewerID')['rating']\n",
    "\n",
    "# reviews_groupby_users_Ratings = pd.DataFrame(reviews_groupby_users_Ratings.count())\n",
    "\n",
    "# user_list_min50_ratings = reviews_groupby_users_Ratings[reviews_groupby_users_Ratings['rating'] >= 20].index\n",
    "\n",
    "# trimmed_df =  df[df['reviewerID'].isin(user_list_min50_ratings)]"
   ]
  },
  {
   "cell_type": "code",
   "execution_count": 8,
   "metadata": {
    "id": "jnrjNoEUWwEH"
   },
   "outputs": [],
   "source": [
    "# uniqueProducts = trimmed_df['productID'].nunique()\n",
    "# uniqueUsers = trimmed_df['reviewerID'].nunique()\n",
    "# ratingCount = trimmed_df['rating'].count()\n",
    "# print(\"Unique Products : \", uniqueProducts)\n",
    "# print(\"Unique Users : \", uniqueUsers)\n",
    "\n",
    "# df = trimmed_df.copy()"
   ]
  },
  {
   "cell_type": "markdown",
   "metadata": {
    "id": "KvWFE0lKoBmM"
   },
   "source": [
    "# EDA\n",
    "\n",
    "ColorMap - https://colorbrewer2.org/#type=sequential&scheme=RdPu&n=3"
   ]
  },
  {
   "cell_type": "code",
   "execution_count": 7,
   "metadata": {
    "colab": {
     "base_uri": "https://localhost:8080/"
    },
    "id": "oyjBfndgnVI9",
    "outputId": "8e698d67-8d95-4c87-86e8-2ad0723909d0"
   },
   "outputs": [
    {
     "name": "stdout",
     "output_type": "stream",
     "text": [
      "Users per Rating :           count\n",
      "rating        \n",
      "1         2191\n",
      "2         1812\n",
      "3         6791\n",
      "4        23141\n",
      "5       135671\n"
     ]
    }
   ],
   "source": [
    "usersPerRating = df.groupby('rating')['rating'].agg(['count'])\n",
    "print(\"Users per Rating : \", usersPerRating)"
   ]
  },
  {
   "cell_type": "code",
   "execution_count": 8,
   "metadata": {
    "colab": {
     "base_uri": "https://localhost:8080/"
    },
    "id": "P_HcilN0oPOo",
    "outputId": "af26607c-96a7-4cd4-c38d-3fc2dd0b8658"
   },
   "outputs": [
    {
     "name": "stdout",
     "output_type": "stream",
     "text": [
      "Unique Products :  11797\n",
      "Unique Users :  16560\n"
     ]
    }
   ],
   "source": [
    "uniqueProducts = df['productID'].nunique()\n",
    "uniqueUsers = df['reviewerID'].nunique()\n",
    "ratingCount = df['rating'].count()\n",
    "print(\"Unique Products : \", uniqueProducts)\n",
    "print(\"Unique Users : \", uniqueUsers)"
   ]
  },
  {
   "cell_type": "code",
   "execution_count": 9,
   "metadata": {
    "colab": {
     "base_uri": "https://localhost:8080/",
     "height": 618
    },
    "id": "tfri2ljopg27",
    "outputId": "2e348dc7-00ba-47a0-b99e-830263de1baa"
   },
   "outputs": [
    {
     "data": {
      "image/png": "[encoded data removed]",
      "text/plain": [
       "<Figure size 1080x720 with 1 Axes>"
      ]
     },
     "metadata": {
      "needs_background": "light"
     },
     "output_type": "display_data"
    }
   ],
   "source": [
    "ax = usersPerRating.plot(kind = 'barh', legend = False, figsize = (15,10), color='#99d8c9')\n",
    "plt.title('Users Per Rating \\n Total Products: {:,} , Total Users: {:,} , Total Ratings: {:,}'.format(uniqueProducts, uniqueUsers, ratingCount), fontsize=20)\n",
    "plt.axis('off')\n",
    "          \n",
    "for i in range(1,6):\n",
    "    ax.text(usersPerRating.iloc[i-1][0]/4, i-1, 'Rating {}: {:.0f}%'.format(i, usersPerRating.iloc[i-1][0]*100 / usersPerRating.sum()[0]), weight = 'bold')"
   ]
  },
  {
   "cell_type": "code",
   "execution_count": 10,
   "metadata": {
    "colab": {
     "base_uri": "https://localhost:8080/",
     "height": 394
    },
    "id": "-d3XOiNYrEa2",
    "outputId": "bf6c7448-1c88-425c-ad8f-2a60f450fe6d"
   },
   "outputs": [
    {
     "data": {
      "text/html": [
       "<div>\n",
       "<style scoped>\n",
       "    .dataframe tbody tr th:only-of-type {\n",
       "        vertical-align: middle;\n",
       "    }\n",
       "\n",
       "    .dataframe tbody tr th {\n",
       "        vertical-align: top;\n",
       "    }\n",
       "\n",
       "    .dataframe thead th {\n",
       "        text-align: right;\n",
       "    }\n",
       "</style>\n",
       "<table border=\"1\" class=\"dataframe\">\n",
       "  <thead>\n",
       "    <tr style=\"text-align: right;\">\n",
       "      <th></th>\n",
       "      <th>rating</th>\n",
       "    </tr>\n",
       "    <tr>\n",
       "      <th>productID</th>\n",
       "      <th></th>\n",
       "    </tr>\n",
       "  </thead>\n",
       "  <tbody>\n",
       "    <tr>\n",
       "      <th>B00CZF8B68</th>\n",
       "      <td>574</td>\n",
       "    </tr>\n",
       "    <tr>\n",
       "      <th>B00BWGHIHY</th>\n",
       "      <td>316</td>\n",
       "    </tr>\n",
       "    <tr>\n",
       "      <th>B00136J7ZE</th>\n",
       "      <td>294</td>\n",
       "    </tr>\n",
       "    <tr>\n",
       "      <th>B00EH49FRE</th>\n",
       "      <td>283</td>\n",
       "    </tr>\n",
       "    <tr>\n",
       "      <th>B00136NUG6</th>\n",
       "      <td>262</td>\n",
       "    </tr>\n",
       "    <tr>\n",
       "      <th>B0170K9UTO</th>\n",
       "      <td>259</td>\n",
       "    </tr>\n",
       "    <tr>\n",
       "      <th>B002HP8EKE</th>\n",
       "      <td>253</td>\n",
       "    </tr>\n",
       "    <tr>\n",
       "      <th>B00122X5VG</th>\n",
       "      <td>242</td>\n",
       "    </tr>\n",
       "    <tr>\n",
       "      <th>B0092MKTWQ</th>\n",
       "      <td>233</td>\n",
       "    </tr>\n",
       "    <tr>\n",
       "      <th>B0011Z764Q</th>\n",
       "      <td>222</td>\n",
       "    </tr>\n",
       "  </tbody>\n",
       "</table>\n",
       "</div>"
      ],
      "text/plain": [
       "            rating\n",
       "productID         \n",
       "B00CZF8B68     574\n",
       "B00BWGHIHY     316\n",
       "B00136J7ZE     294\n",
       "B00EH49FRE     283\n",
       "B00136NUG6     262\n",
       "B0170K9UTO     259\n",
       "B002HP8EKE     253\n",
       "B00122X5VG     242\n",
       "B0092MKTWQ     233\n",
       "B0011Z764Q     222"
      ]
     },
     "execution_count": 10,
     "metadata": {},
     "output_type": "execute_result"
    }
   ],
   "source": [
    "popular_products = pd.DataFrame(df.groupby('productID')['rating'].count())\n",
    "most_popular = popular_products.sort_values('rating', ascending=False)\n",
    "most_popular.head(10)"
   ]
  },
  {
   "cell_type": "code",
   "execution_count": 11,
   "metadata": {
    "colab": {
     "base_uri": "https://localhost:8080/",
     "height": 373
    },
    "id": "CXHzPrzWsthK",
    "outputId": "58cf1ae3-8b8a-4082-de01-9e4850ff72c0"
   },
   "outputs": [
    {
     "data": {
      "text/plain": [
       "<AxesSubplot:title={'center':'Most popular products'}, xlabel='productID'>"
      ]
     },
     "execution_count": 11,
     "metadata": {},
     "output_type": "execute_result"
    },
    {
     "data": {
      "image/png": "[encoded data removed]",
      "text/plain": [
       "<Figure size 432x288 with 1 Axes>"
      ]
     },
     "metadata": {
      "needs_background": "light"
     },
     "output_type": "display_data"
    }
   ],
   "source": [
    "most_popular.head(30).plot(kind = \"bar\", title='Most popular products', color='#fdae6b')"
   ]
  },
  {
   "cell_type": "code",
   "execution_count": 12,
   "metadata": {
    "colab": {
     "base_uri": "https://localhost:8080/",
     "height": 394
    },
    "id": "w7ismRuZwHGx",
    "outputId": "ec5caf5d-58bc-4f0f-ef45-708ce8c0fa00"
   },
   "outputs": [
    {
     "data": {
      "text/html": [
       "<div>\n",
       "<style scoped>\n",
       "    .dataframe tbody tr th:only-of-type {\n",
       "        vertical-align: middle;\n",
       "    }\n",
       "\n",
       "    .dataframe tbody tr th {\n",
       "        vertical-align: top;\n",
       "    }\n",
       "\n",
       "    .dataframe thead th {\n",
       "        text-align: right;\n",
       "    }\n",
       "</style>\n",
       "<table border=\"1\" class=\"dataframe\">\n",
       "  <thead>\n",
       "    <tr style=\"text-align: right;\">\n",
       "      <th></th>\n",
       "      <th>rating</th>\n",
       "    </tr>\n",
       "    <tr>\n",
       "      <th>productID</th>\n",
       "      <th></th>\n",
       "    </tr>\n",
       "  </thead>\n",
       "  <tbody>\n",
       "    <tr>\n",
       "      <th>3426958910</th>\n",
       "      <td>4.800000</td>\n",
       "    </tr>\n",
       "    <tr>\n",
       "      <th>5557505946</th>\n",
       "      <td>5.000000</td>\n",
       "    </tr>\n",
       "    <tr>\n",
       "      <th>5557706259</th>\n",
       "      <td>4.600000</td>\n",
       "    </tr>\n",
       "    <tr>\n",
       "      <th>5559166928</th>\n",
       "      <td>4.900000</td>\n",
       "    </tr>\n",
       "    <tr>\n",
       "      <th>7799420340</th>\n",
       "      <td>4.784615</td>\n",
       "    </tr>\n",
       "    <tr>\n",
       "      <th>9434682614</th>\n",
       "      <td>4.548387</td>\n",
       "    </tr>\n",
       "    <tr>\n",
       "      <th>9714721180</th>\n",
       "      <td>4.829268</td>\n",
       "    </tr>\n",
       "    <tr>\n",
       "      <th>9721717150</th>\n",
       "      <td>4.526316</td>\n",
       "    </tr>\n",
       "    <tr>\n",
       "      <th>B000002TTH</th>\n",
       "      <td>3.571429</td>\n",
       "    </tr>\n",
       "    <tr>\n",
       "      <th>B000006045</th>\n",
       "      <td>4.590909</td>\n",
       "    </tr>\n",
       "  </tbody>\n",
       "</table>\n",
       "</div>"
      ],
      "text/plain": [
       "              rating\n",
       "productID           \n",
       "3426958910  4.800000\n",
       "5557505946  5.000000\n",
       "5557706259  4.600000\n",
       "5559166928  4.900000\n",
       "7799420340  4.784615\n",
       "9434682614  4.548387\n",
       "9714721180  4.829268\n",
       "9721717150  4.526316\n",
       "B000002TTH  3.571429\n",
       "B000006045  4.590909"
      ]
     },
     "execution_count": 12,
     "metadata": {},
     "output_type": "execute_result"
    }
   ],
   "source": [
    "averageRatingPerProduct = pd.DataFrame(df.groupby('productID')['rating'].mean())\n",
    "averageRatingPerProduct.head(10)"
   ]
  },
  {
   "cell_type": "code",
   "execution_count": 13,
   "metadata": {
    "colab": {
     "base_uri": "https://localhost:8080/",
     "height": 346
    },
    "id": "8EAmvlPrO2gr",
    "outputId": "8a317076-b87b-4ec7-bcfc-b15c6789e915"
   },
   "outputs": [
    {
     "data": {
      "image/png": "[encoded data removed]",
      "text/plain": [
       "<Figure size 432x288 with 1 Axes>"
      ]
     },
     "metadata": {
      "needs_background": "light"
     },
     "output_type": "display_data"
    }
   ],
   "source": [
    "# x values: list of the top 30 most popular product id's\n",
    "x_values = list(most_popular.index)\n",
    "x_values = x_values[0:30]\n",
    "\n",
    "# using list comprehension to get y_values\n",
    "y_values = [averageRatingPerProduct.loc[averageRatingPerProduct.index == x]['rating'].values[0] for x in x_values]\n",
    "\n",
    "# plot a bar chart with these x and y values\n",
    "plt.title('Most popular products with average rating', fontsize=20)\n",
    "plt.bar(x_values,y_values, color = \"#756bb1\")\n",
    "plt.xticks(rotation='vertical')\n",
    "plt.show()"
   ]
  },
  {
   "cell_type": "code",
   "execution_count": 14,
   "metadata": {
    "colab": {
     "base_uri": "https://localhost:8080/",
     "height": 455
    },
    "id": "qGxuodpwPOAo",
    "outputId": "b26bc9bb-d928-4dfc-9689-b3c8af696b8b"
   },
   "outputs": [
    {
     "data": {
      "text/html": [
       "<div>\n",
       "<style scoped>\n",
       "    .dataframe tbody tr th:only-of-type {\n",
       "        vertical-align: middle;\n",
       "    }\n",
       "\n",
       "    .dataframe tbody tr th {\n",
       "        vertical-align: top;\n",
       "    }\n",
       "\n",
       "    .dataframe thead th {\n",
       "        text-align: right;\n",
       "    }\n",
       "</style>\n",
       "<table border=\"1\" class=\"dataframe\">\n",
       "  <thead>\n",
       "    <tr style=\"text-align: right;\">\n",
       "      <th></th>\n",
       "      <th>rating</th>\n",
       "    </tr>\n",
       "    <tr>\n",
       "      <th>productID</th>\n",
       "      <th></th>\n",
       "    </tr>\n",
       "  </thead>\n",
       "  <tbody>\n",
       "    <tr>\n",
       "      <th>B01HJ91MTW</th>\n",
       "      <td>5.00000</td>\n",
       "    </tr>\n",
       "    <tr>\n",
       "      <th>B00136PXKC</th>\n",
       "      <td>5.00000</td>\n",
       "    </tr>\n",
       "    <tr>\n",
       "      <th>B005GYWUJ4</th>\n",
       "      <td>5.00000</td>\n",
       "    </tr>\n",
       "    <tr>\n",
       "      <th>B0017LA5AG</th>\n",
       "      <td>5.00000</td>\n",
       "    </tr>\n",
       "    <tr>\n",
       "      <th>B00136PXPW</th>\n",
       "      <td>5.00000</td>\n",
       "    </tr>\n",
       "    <tr>\n",
       "      <th>...</th>\n",
       "      <td>...</td>\n",
       "    </tr>\n",
       "    <tr>\n",
       "      <th>B00138EYKK</th>\n",
       "      <td>2.00000</td>\n",
       "    </tr>\n",
       "    <tr>\n",
       "      <th>B00576405I</th>\n",
       "      <td>2.00000</td>\n",
       "    </tr>\n",
       "    <tr>\n",
       "      <th>B0013AZNXA</th>\n",
       "      <td>2.00000</td>\n",
       "    </tr>\n",
       "    <tr>\n",
       "      <th>B000FWGU84</th>\n",
       "      <td>1.60000</td>\n",
       "    </tr>\n",
       "    <tr>\n",
       "      <th>B001KOWH0G</th>\n",
       "      <td>1.12963</td>\n",
       "    </tr>\n",
       "  </tbody>\n",
       "</table>\n",
       "<p>11797 rows × 1 columns</p>\n",
       "</div>"
      ],
      "text/plain": [
       "             rating\n",
       "productID          \n",
       "B01HJ91MTW  5.00000\n",
       "B00136PXKC  5.00000\n",
       "B005GYWUJ4  5.00000\n",
       "B0017LA5AG  5.00000\n",
       "B00136PXPW  5.00000\n",
       "...             ...\n",
       "B00138EYKK  2.00000\n",
       "B00576405I  2.00000\n",
       "B0013AZNXA  2.00000\n",
       "B000FWGU84  1.60000\n",
       "B001KOWH0G  1.12963\n",
       "\n",
       "[11797 rows x 1 columns]"
      ]
     },
     "execution_count": 14,
     "metadata": {},
     "output_type": "execute_result"
    }
   ],
   "source": [
    "#products with highest average rating\n",
    "highest_rated = averageRatingPerProduct.sort_values('rating', ascending=False)\n",
    "highest_rated"
   ]
  },
  {
   "cell_type": "code",
   "execution_count": 15,
   "metadata": {
    "colab": {
     "base_uri": "https://localhost:8080/",
     "height": 455
    },
    "id": "W9cQFoJtbfVL",
    "outputId": "56d91256-86c3-4340-9a34-36433cf0488a"
   },
   "outputs": [
    {
     "data": {
      "text/html": [
       "<div>\n",
       "<style scoped>\n",
       "    .dataframe tbody tr th:only-of-type {\n",
       "        vertical-align: middle;\n",
       "    }\n",
       "\n",
       "    .dataframe tbody tr th {\n",
       "        vertical-align: top;\n",
       "    }\n",
       "\n",
       "    .dataframe thead th {\n",
       "        text-align: right;\n",
       "    }\n",
       "</style>\n",
       "<table border=\"1\" class=\"dataframe\">\n",
       "  <thead>\n",
       "    <tr style=\"text-align: right;\">\n",
       "      <th></th>\n",
       "      <th>rating</th>\n",
       "    </tr>\n",
       "    <tr>\n",
       "      <th>productID</th>\n",
       "      <th></th>\n",
       "    </tr>\n",
       "  </thead>\n",
       "  <tbody>\n",
       "    <tr>\n",
       "      <th>B001KOWH0G</th>\n",
       "      <td>1.12963</td>\n",
       "    </tr>\n",
       "    <tr>\n",
       "      <th>B000FWGU84</th>\n",
       "      <td>1.60000</td>\n",
       "    </tr>\n",
       "    <tr>\n",
       "      <th>B00138EYKK</th>\n",
       "      <td>2.00000</td>\n",
       "    </tr>\n",
       "    <tr>\n",
       "      <th>B00576405I</th>\n",
       "      <td>2.00000</td>\n",
       "    </tr>\n",
       "    <tr>\n",
       "      <th>B0013AZNXA</th>\n",
       "      <td>2.00000</td>\n",
       "    </tr>\n",
       "    <tr>\n",
       "      <th>...</th>\n",
       "      <td>...</td>\n",
       "    </tr>\n",
       "    <tr>\n",
       "      <th>B00137SZC4</th>\n",
       "      <td>5.00000</td>\n",
       "    </tr>\n",
       "    <tr>\n",
       "      <th>B00137SYT8</th>\n",
       "      <td>5.00000</td>\n",
       "    </tr>\n",
       "    <tr>\n",
       "      <th>B00137SXRQ</th>\n",
       "      <td>5.00000</td>\n",
       "    </tr>\n",
       "    <tr>\n",
       "      <th>B00137SU5G</th>\n",
       "      <td>5.00000</td>\n",
       "    </tr>\n",
       "    <tr>\n",
       "      <th>B01HJ91MTW</th>\n",
       "      <td>5.00000</td>\n",
       "    </tr>\n",
       "  </tbody>\n",
       "</table>\n",
       "<p>11797 rows × 1 columns</p>\n",
       "</div>"
      ],
      "text/plain": [
       "             rating\n",
       "productID          \n",
       "B001KOWH0G  1.12963\n",
       "B000FWGU84  1.60000\n",
       "B00138EYKK  2.00000\n",
       "B00576405I  2.00000\n",
       "B0013AZNXA  2.00000\n",
       "...             ...\n",
       "B00137SZC4  5.00000\n",
       "B00137SYT8  5.00000\n",
       "B00137SXRQ  5.00000\n",
       "B00137SU5G  5.00000\n",
       "B01HJ91MTW  5.00000\n",
       "\n",
       "[11797 rows x 1 columns]"
      ]
     },
     "execution_count": 15,
     "metadata": {},
     "output_type": "execute_result"
    }
   ],
   "source": [
    "lowest_rated = averageRatingPerProduct.sort_values('rating', ascending=True)\n",
    "lowest_rated"
   ]
  },
  {
   "cell_type": "code",
   "execution_count": 16,
   "metadata": {
    "colab": {
     "base_uri": "https://localhost:8080/",
     "height": 389
    },
    "id": "OZDYnY_PblS9",
    "outputId": "21e94065-defe-40a9-c698-c3ed38c5a56e"
   },
   "outputs": [
    {
     "data": {
      "text/html": [
       "<div>\n",
       "<style scoped>\n",
       "    .dataframe tbody tr th:only-of-type {\n",
       "        vertical-align: middle;\n",
       "    }\n",
       "\n",
       "    .dataframe tbody tr th {\n",
       "        vertical-align: top;\n",
       "    }\n",
       "\n",
       "    .dataframe thead th {\n",
       "        text-align: right;\n",
       "    }\n",
       "</style>\n",
       "<table border=\"1\" class=\"dataframe\">\n",
       "  <thead>\n",
       "    <tr style=\"text-align: right;\">\n",
       "      <th></th>\n",
       "      <th>rating</th>\n",
       "      <th>verified</th>\n",
       "      <th>reviewTime</th>\n",
       "      <th>reviewerID</th>\n",
       "      <th>productID</th>\n",
       "      <th>reviewerName</th>\n",
       "      <th>reviewText</th>\n",
       "      <th>summary</th>\n",
       "      <th>unixReviewTime</th>\n",
       "    </tr>\n",
       "  </thead>\n",
       "  <tbody>\n",
       "    <tr>\n",
       "      <th>0</th>\n",
       "      <td>5</td>\n",
       "      <td>True</td>\n",
       "      <td>06 3, 2013</td>\n",
       "      <td>A2TYZ821XXK2YZ</td>\n",
       "      <td>3426958910</td>\n",
       "      <td>Garrett</td>\n",
       "      <td>This is awesome to listen to, A must-have for ...</td>\n",
       "      <td>Slayer Rules!</td>\n",
       "      <td>1370217600</td>\n",
       "    </tr>\n",
       "    <tr>\n",
       "      <th>1</th>\n",
       "      <td>5</td>\n",
       "      <td>True</td>\n",
       "      <td>10 11, 2014</td>\n",
       "      <td>A3OFSREZADFUDY</td>\n",
       "      <td>3426958910</td>\n",
       "      <td>Ad</td>\n",
       "      <td>bien</td>\n",
       "      <td>Five Stars</td>\n",
       "      <td>1412985600</td>\n",
       "    </tr>\n",
       "    <tr>\n",
       "      <th>2</th>\n",
       "      <td>5</td>\n",
       "      <td>True</td>\n",
       "      <td>02 11, 2014</td>\n",
       "      <td>A2VAMODP8M77NG</td>\n",
       "      <td>3426958910</td>\n",
       "      <td>JTGabq</td>\n",
       "      <td>It was great to hear the old stuff again and I...</td>\n",
       "      <td>SLAYER!!!!!!!!!!!!!!!!!!!!!</td>\n",
       "      <td>1392076800</td>\n",
       "    </tr>\n",
       "    <tr>\n",
       "      <th>3</th>\n",
       "      <td>4</td>\n",
       "      <td>False</td>\n",
       "      <td>12 7, 2013</td>\n",
       "      <td>AAKSLZ9IDTEH0</td>\n",
       "      <td>3426958910</td>\n",
       "      <td>john F&amp;#039;n doe</td>\n",
       "      <td>well best of's are a bit poison normally but t...</td>\n",
       "      <td>slayer greatest hits! you mean everything righ...</td>\n",
       "      <td>1386374400</td>\n",
       "    </tr>\n",
       "    <tr>\n",
       "      <th>4</th>\n",
       "      <td>5</td>\n",
       "      <td>True</td>\n",
       "      <td>06 12, 2016</td>\n",
       "      <td>A3OH43OZJLKI09</td>\n",
       "      <td>5557706259</td>\n",
       "      <td>melinda a goodman</td>\n",
       "      <td>What can I say? This is Casting Crowns!!!This ...</td>\n",
       "      <td>This is a good, blessing filled</td>\n",
       "      <td>1465689600</td>\n",
       "    </tr>\n",
       "  </tbody>\n",
       "</table>\n",
       "</div>"
      ],
      "text/plain": [
       "   rating  verified   reviewTime      reviewerID   productID  \\\n",
       "0       5      True   06 3, 2013  A2TYZ821XXK2YZ  3426958910   \n",
       "1       5      True  10 11, 2014  A3OFSREZADFUDY  3426958910   \n",
       "2       5      True  02 11, 2014  A2VAMODP8M77NG  3426958910   \n",
       "3       4     False   12 7, 2013   AAKSLZ9IDTEH0  3426958910   \n",
       "4       5      True  06 12, 2016  A3OH43OZJLKI09  5557706259   \n",
       "\n",
       "        reviewerName                                         reviewText  \\\n",
       "0            Garrett  This is awesome to listen to, A must-have for ...   \n",
       "1                 Ad                                               bien   \n",
       "2             JTGabq  It was great to hear the old stuff again and I...   \n",
       "3  john F&#039;n doe  well best of's are a bit poison normally but t...   \n",
       "4  melinda a goodman  What can I say? This is Casting Crowns!!!This ...   \n",
       "\n",
       "                                             summary  unixReviewTime  \n",
       "0                                      Slayer Rules!      1370217600  \n",
       "1                                         Five Stars      1412985600  \n",
       "2                        SLAYER!!!!!!!!!!!!!!!!!!!!!      1392076800  \n",
       "3  slayer greatest hits! you mean everything righ...      1386374400  \n",
       "4                    This is a good, blessing filled      1465689600  "
      ]
     },
     "execution_count": 16,
     "metadata": {},
     "output_type": "execute_result"
    }
   ],
   "source": [
    "df.head()"
   ]
  },
  {
   "cell_type": "code",
   "execution_count": 17,
   "metadata": {
    "colab": {
     "base_uri": "https://localhost:8080/"
    },
    "id": "2uIyBaBTb3-g",
    "outputId": "1c85583c-7186-4165-9a41-6fbf300c7722"
   },
   "outputs": [
    {
     "name": "stdout",
     "output_type": "stream",
     "text": [
      "Verified Users :             count\n",
      "verified        \n",
      "False      20835\n",
      "True      148771\n"
     ]
    }
   ],
   "source": [
    "verifiedUsers = df.groupby('verified')['verified'].agg(['count'])\n",
    "print(\"Verified Users : \", verifiedUsers)"
   ]
  },
  {
   "cell_type": "code",
   "execution_count": 18,
   "metadata": {
    "colab": {
     "base_uri": "https://localhost:8080/",
     "height": 313
    },
    "id": "z0JXrgY7c3CY",
    "outputId": "9988b4e8-9845-49fe-ea6d-6b51fef7c734"
   },
   "outputs": [
    {
     "data": {
      "text/plain": [
       "<AxesSubplot:xlabel='verified'>"
      ]
     },
     "execution_count": 18,
     "metadata": {},
     "output_type": "execute_result"
    },
    {
     "data": {
      "image/png": "[encoded data removed]",
      "text/plain": [
       "<Figure size 432x288 with 1 Axes>"
      ]
     },
     "metadata": {
      "needs_background": "light"
     },
     "output_type": "display_data"
    }
   ],
   "source": [
    "verifiedUsers.plot(kind='bar', color='#c51b8a')"
   ]
  },
  {
   "cell_type": "code",
   "execution_count": 20,
   "metadata": {
    "colab": {
     "base_uri": "https://localhost:8080/",
     "height": 455
    },
    "id": "I8CQ37z9eHW6",
    "outputId": "6db581ff-3db3-4f72-aa06-201dce036aaf"
   },
   "outputs": [
    {
     "data": {
      "text/html": [
       "<div>\n",
       "<style scoped>\n",
       "    .dataframe tbody tr th:only-of-type {\n",
       "        vertical-align: middle;\n",
       "    }\n",
       "\n",
       "    .dataframe tbody tr th {\n",
       "        vertical-align: top;\n",
       "    }\n",
       "\n",
       "    .dataframe thead th {\n",
       "        text-align: right;\n",
       "    }\n",
       "</style>\n",
       "<table border=\"1\" class=\"dataframe\">\n",
       "  <thead>\n",
       "    <tr style=\"text-align: right;\">\n",
       "      <th></th>\n",
       "      <th>rating</th>\n",
       "    </tr>\n",
       "    <tr>\n",
       "      <th>reviewerID</th>\n",
       "      <th></th>\n",
       "    </tr>\n",
       "  </thead>\n",
       "  <tbody>\n",
       "    <tr>\n",
       "      <th>A3W4D8XOGLWUN5</th>\n",
       "      <td>791</td>\n",
       "    </tr>\n",
       "    <tr>\n",
       "      <th>A2H3JURQZOHVMB</th>\n",
       "      <td>314</td>\n",
       "    </tr>\n",
       "    <tr>\n",
       "      <th>A36EDWL4F3AASU</th>\n",
       "      <td>223</td>\n",
       "    </tr>\n",
       "    <tr>\n",
       "      <th>A165P3MOJV3OVZ</th>\n",
       "      <td>219</td>\n",
       "    </tr>\n",
       "    <tr>\n",
       "      <th>AVKHYC2D7MD56</th>\n",
       "      <td>214</td>\n",
       "    </tr>\n",
       "    <tr>\n",
       "      <th>...</th>\n",
       "      <td>...</td>\n",
       "    </tr>\n",
       "    <tr>\n",
       "      <th>ALR4BAAI5U189</th>\n",
       "      <td>2</td>\n",
       "    </tr>\n",
       "    <tr>\n",
       "      <th>A3CY40LNIH6MUT</th>\n",
       "      <td>2</td>\n",
       "    </tr>\n",
       "    <tr>\n",
       "      <th>A2VWLNEBMW4ITQ</th>\n",
       "      <td>2</td>\n",
       "    </tr>\n",
       "    <tr>\n",
       "      <th>A70WPHE33U5B</th>\n",
       "      <td>1</td>\n",
       "    </tr>\n",
       "    <tr>\n",
       "      <th>A25HR6FTWBQ2NZ</th>\n",
       "      <td>1</td>\n",
       "    </tr>\n",
       "  </tbody>\n",
       "</table>\n",
       "<p>16560 rows × 1 columns</p>\n",
       "</div>"
      ],
      "text/plain": [
       "                rating\n",
       "reviewerID            \n",
       "A3W4D8XOGLWUN5     791\n",
       "A2H3JURQZOHVMB     314\n",
       "A36EDWL4F3AASU     223\n",
       "A165P3MOJV3OVZ     219\n",
       "AVKHYC2D7MD56      214\n",
       "...                ...\n",
       "ALR4BAAI5U189        2\n",
       "A3CY40LNIH6MUT       2\n",
       "A2VWLNEBMW4ITQ       2\n",
       "A70WPHE33U5B         1\n",
       "A25HR6FTWBQ2NZ       1\n",
       "\n",
       "[16560 rows x 1 columns]"
      ]
     },
     "execution_count": 20,
     "metadata": {},
     "output_type": "execute_result"
    }
   ],
   "source": [
    "# getting number of ratings per reviewer\n",
    "ratingsPerUser = pd.DataFrame(df.groupby('reviewerID')['rating'].count())\n",
    "ratingsPerUser = ratingsPerUser.sort_values('rating', ascending=False)\n",
    "ratingsPerUser"
   ]
  },
  {
   "cell_type": "code",
   "execution_count": 21,
   "metadata": {
    "colab": {
     "base_uri": "https://localhost:8080/",
     "height": 404
    },
    "id": "YeMt-74yPdPG",
    "outputId": "76e1171a-1b79-4922-ad56-31a1d149d75e"
   },
   "outputs": [
    {
     "data": {
      "text/plain": [
       "<AxesSubplot:title={'center':'Reviewer Frequency'}, xlabel='reviewerID'>"
      ]
     },
     "execution_count": 21,
     "metadata": {},
     "output_type": "execute_result"
    },
    {
     "data": {
      "image/png": "[encoded data removed]",
      "text/plain": [
       "<Figure size 432x288 with 1 Axes>"
      ]
     },
     "metadata": {
      "needs_background": "light"
     },
     "output_type": "display_data"
    }
   ],
   "source": [
    "ratingsPerUser.head(30).plot(kind = \"bar\", title='Reviewer Frequency', color='#fdae6b')"
   ]
  },
  {
   "cell_type": "code",
   "execution_count": 22,
   "metadata": {
    "id": "I1K3Zb7jPgQq"
   },
   "outputs": [],
   "source": [
    "# Looping through the df rows and creating a dictionary\n",
    "# key: year corresponding to unixReviewTime\n",
    "# value: number of ratings \n",
    "ratingTimes = defaultdict(int)\n",
    "for index, row in df.iterrows():\n",
    "  timestamp = date.fromtimestamp(row['unixReviewTime'])\n",
    "  ratingTimes[timestamp.year] += 1"
   ]
  },
  {
   "cell_type": "code",
   "execution_count": 23,
   "metadata": {
    "id": "FClY18gePlHk"
   },
   "outputs": [],
   "source": [
    "myList = ratingTimes.items()\n",
    "myList = sorted(myList)\n",
    "x, y = zip(*myList) "
   ]
  },
  {
   "cell_type": "code",
   "execution_count": 24,
   "metadata": {
    "colab": {
     "base_uri": "https://localhost:8080/",
     "height": 281
    },
    "id": "-rnqQErcPwc0",
    "outputId": "fc105015-3ae8-497c-b45f-3f098fc94f20"
   },
   "outputs": [
    {
     "data": {
      "image/png": "[encoded data removed]",
      "text/plain": [
       "<Figure size 432x288 with 1 Axes>"
      ]
     },
     "metadata": {
      "needs_background": "light"
     },
     "output_type": "display_data"
    }
   ],
   "source": [
    "plt.plot(x, y, color='#fa9fb5')\n",
    "plt.xticks(range(myList[0][0], myList[len(myList)-1][0]+1))\n",
    "plt.xticks(rotation='vertical')\n",
    "plt.show()"
   ]
  },
  {
   "cell_type": "markdown",
   "metadata": {
    "id": "JGtC17d4V96n"
   },
   "source": [
    "# Data splitting"
   ]
  },
  {
   "cell_type": "code",
   "execution_count": null,
   "metadata": {
    "colab": {
     "base_uri": "https://localhost:8080/"
    },
    "id": "BgVRIeyPV_mV",
    "outputId": "702db1b7-d795-46df-e2c1-f68e07c2bcdb"
   },
   "outputs": [
    {
     "name": "stdout",
     "output_type": "stream",
     "text": [
      "Requirement already satisfied: scikit-surprise in /usr/local/lib/python3.7/dist-packages (1.1.1)\n",
      "Requirement already satisfied: scipy>=1.0.0 in /usr/local/lib/python3.7/dist-packages (from scikit-surprise) (1.4.1)\n",
      "Requirement already satisfied: joblib>=0.11 in /usr/local/lib/python3.7/dist-packages (from scikit-surprise) (1.1.0)\n",
      "Requirement already satisfied: numpy>=1.11.2 in /usr/local/lib/python3.7/dist-packages (from scikit-surprise) (1.21.6)\n",
      "Requirement already satisfied: six>=1.10.0 in /usr/local/lib/python3.7/dist-packages (from scikit-surprise) (1.15.0)\n"
     ]
    }
   ],
   "source": [
    "!pip install scikit-surprise"
   ]
  },
  {
   "cell_type": "code",
   "execution_count": 25,
   "metadata": {
    "id": "a7ajSCa6crEc"
   },
   "outputs": [],
   "source": [
    "from surprise import Reader, Dataset\n",
    "from surprise import SVD, NMF, KNNBasic, accuracy\n",
    "from surprise.model_selection import cross_validate, KFold\n",
    "# from surprise.model_selection import train_test_split\n",
    "from sklearn.model_selection import train_test_split"
   ]
  },
  {
   "cell_type": "code",
   "execution_count": 26,
   "metadata": {
    "colab": {
     "base_uri": "https://localhost:8080/",
     "height": 424
    },
    "id": "N5urHprIIKPT",
    "outputId": "be735cb0-1f14-4b56-ca4f-5eceea531665"
   },
   "outputs": [
    {
     "data": {
      "text/html": [
       "<div>\n",
       "<style scoped>\n",
       "    .dataframe tbody tr th:only-of-type {\n",
       "        vertical-align: middle;\n",
       "    }\n",
       "\n",
       "    .dataframe tbody tr th {\n",
       "        vertical-align: top;\n",
       "    }\n",
       "\n",
       "    .dataframe thead th {\n",
       "        text-align: right;\n",
       "    }\n",
       "</style>\n",
       "<table border=\"1\" class=\"dataframe\">\n",
       "  <thead>\n",
       "    <tr style=\"text-align: right;\">\n",
       "      <th></th>\n",
       "      <th>reviewerID</th>\n",
       "      <th>productID</th>\n",
       "      <th>rating</th>\n",
       "    </tr>\n",
       "  </thead>\n",
       "  <tbody>\n",
       "    <tr>\n",
       "      <th>0</th>\n",
       "      <td>A2TYZ821XXK2YZ</td>\n",
       "      <td>3426958910</td>\n",
       "      <td>5</td>\n",
       "    </tr>\n",
       "    <tr>\n",
       "      <th>1</th>\n",
       "      <td>A3OFSREZADFUDY</td>\n",
       "      <td>3426958910</td>\n",
       "      <td>5</td>\n",
       "    </tr>\n",
       "    <tr>\n",
       "      <th>2</th>\n",
       "      <td>A2VAMODP8M77NG</td>\n",
       "      <td>3426958910</td>\n",
       "      <td>5</td>\n",
       "    </tr>\n",
       "    <tr>\n",
       "      <th>3</th>\n",
       "      <td>AAKSLZ9IDTEH0</td>\n",
       "      <td>3426958910</td>\n",
       "      <td>4</td>\n",
       "    </tr>\n",
       "    <tr>\n",
       "      <th>4</th>\n",
       "      <td>A3OH43OZJLKI09</td>\n",
       "      <td>5557706259</td>\n",
       "      <td>5</td>\n",
       "    </tr>\n",
       "    <tr>\n",
       "      <th>...</th>\n",
       "      <td>...</td>\n",
       "      <td>...</td>\n",
       "      <td>...</td>\n",
       "    </tr>\n",
       "    <tr>\n",
       "      <th>169776</th>\n",
       "      <td>A1SR2T84IXOMAQ</td>\n",
       "      <td>B01HJ91MTW</td>\n",
       "      <td>5</td>\n",
       "    </tr>\n",
       "    <tr>\n",
       "      <th>169777</th>\n",
       "      <td>A2SR3DWJR1PYR6</td>\n",
       "      <td>B01HJ91MTW</td>\n",
       "      <td>5</td>\n",
       "    </tr>\n",
       "    <tr>\n",
       "      <th>169778</th>\n",
       "      <td>A24V7X30NIMOIY</td>\n",
       "      <td>B01HJ91MTW</td>\n",
       "      <td>5</td>\n",
       "    </tr>\n",
       "    <tr>\n",
       "      <th>169779</th>\n",
       "      <td>A1LW10GYP2EYM1</td>\n",
       "      <td>B01HJ91MTW</td>\n",
       "      <td>5</td>\n",
       "    </tr>\n",
       "    <tr>\n",
       "      <th>169780</th>\n",
       "      <td>A26TH3YW0QWPI7</td>\n",
       "      <td>B01HJ91MTW</td>\n",
       "      <td>5</td>\n",
       "    </tr>\n",
       "  </tbody>\n",
       "</table>\n",
       "<p>169606 rows × 3 columns</p>\n",
       "</div>"
      ],
      "text/plain": [
       "            reviewerID   productID  rating\n",
       "0       A2TYZ821XXK2YZ  3426958910       5\n",
       "1       A3OFSREZADFUDY  3426958910       5\n",
       "2       A2VAMODP8M77NG  3426958910       5\n",
       "3        AAKSLZ9IDTEH0  3426958910       4\n",
       "4       A3OH43OZJLKI09  5557706259       5\n",
       "...                ...         ...     ...\n",
       "169776  A1SR2T84IXOMAQ  B01HJ91MTW       5\n",
       "169777  A2SR3DWJR1PYR6  B01HJ91MTW       5\n",
       "169778  A24V7X30NIMOIY  B01HJ91MTW       5\n",
       "169779  A1LW10GYP2EYM1  B01HJ91MTW       5\n",
       "169780  A26TH3YW0QWPI7  B01HJ91MTW       5\n",
       "\n",
       "[169606 rows x 3 columns]"
      ]
     },
     "execution_count": 26,
     "metadata": {},
     "output_type": "execute_result"
    }
   ],
   "source": [
    "truncated_df = df[['reviewerID', 'productID', 'rating']]\n",
    "truncated_df"
   ]
  },
  {
   "cell_type": "code",
   "execution_count": 27,
   "metadata": {
    "id": "q3GZZW3k4ufd"
   },
   "outputs": [],
   "source": [
    "# traindata, testdata = train_test_split(truncated_df, test_size=.2, stratify=truncated_df['reviewerID'])\n",
    "traindata, testdata = train_test_split(truncated_df, test_size=.2)"
   ]
  },
  {
   "cell_type": "code",
   "execution_count": 28,
   "metadata": {
    "id": "M_FWnVbuhzmo"
   },
   "outputs": [],
   "source": [
    "reader = Reader(rating_scale=(0.5, 5.0))\n",
    "trainset = Dataset.load_from_df(traindata[['reviewerID', 'productID', 'rating']], reader)\n",
    "testset = Dataset.load_from_df(testdata[['reviewerID', 'productID', 'rating']], reader)"
   ]
  },
  {
   "cell_type": "markdown",
   "metadata": {
    "id": "k5qXuCrQ1ZTp"
   },
   "source": [
    "# Recommendation Techniques"
   ]
  },
  {
   "cell_type": "code",
   "execution_count": 29,
   "metadata": {
    "id": "322hukWq9gqS"
   },
   "outputs": [],
   "source": [
    "def runKFoldCV(trainset, algorithm):\n",
    "  kf = KFold(n_splits=3)\n",
    "  for trainKF, testKF in kf.split(trainset):\n",
    "\n",
    "      # fit\n",
    "      algorithm.fit(trainKF)\n",
    "\n",
    "      # predict\n",
    "      predictions = algorithm.test(testKF)\n",
    "\n",
    "      # Compute and print RMSE, MAE\n",
    "      accuracy.rmse(predictions, verbose=True)\n",
    "      accuracy.mae(predictions, verbose=True)\n",
    "\n",
    "  return algorithm\n",
    "\n",
    "def getFinalResults(testset, algorithm):\n",
    "  print(\"Final results\")\n",
    "  test_predictions = getPredictions(testset, algorithm)\n",
    "  test_rmse = accuracy.rmse(test_predictions)\n",
    "  test_mae = accuracy.mae(test_predictions)\n",
    "  return test_predictions\n",
    "\n",
    "def getPredictions(testset, algorithm):\n",
    "  testRaw = testset.construct_testset(testset.raw_ratings)\n",
    "  predictions = algorithm.test(testRaw)\n",
    "  return predictions\n"
   ]
  },
  {
   "cell_type": "code",
   "execution_count": 30,
   "metadata": {
    "id": "urx8GOKkk6po"
   },
   "outputs": [],
   "source": [
    "\n",
    "def get_top_n(predictions, n):\n",
    "  # First map the predictions to each user.\n",
    "  top_n = defaultdict(list)\n",
    "  org_ratings = defaultdict(list)\n",
    "\n",
    "  for uid, iid, true_r, est, _ in predictions:\n",
    "    top_n[uid].append((iid, est))\n",
    "    org_ratings[uid].append((iid, true_r))\n",
    "\n",
    "  # Then sort the predictions for each user and retrieve the k highest ones.\n",
    "  for uid, user_ratings in top_n.items():\n",
    "    user_ratings.sort(key=lambda x: x[1], reverse=True)\n",
    "    top_n[uid] = user_ratings[:n]\n",
    "\n",
    "  return top_n, org_ratings\n",
    "\n",
    "def dcg_at_k(scores):\n",
    "  return scores[0] + sum(sc/math.log(ind, 2) for sc, ind in zip(scores[1:], range(2, len(scores) + 1)))\n",
    "\n",
    "def ndcg_at_k(scores):\n",
    "  idcg = dcg_at_k(sorted(scores, reverse=True))\n",
    "  return (dcg_at_k(scores)/idcg) if idcg > 0.0 else 0.0\n",
    "\n",
    "def get_ndcg(predictions, n=10):\n",
    "  top_n, org_ratings = get_top_n(predictions, n=10)\n",
    "  \n",
    "  ndcg_scores = dict()\n",
    "  for uid, user_ratings in top_n.items():\n",
    "    scores = []\n",
    "    for iid, est_r in user_ratings:\n",
    "      iid_found = False\n",
    "      org_user_ratings = org_ratings[uid]\n",
    "      for i, r in org_user_ratings:\n",
    "        if iid == i:\n",
    "          scores.append(r)\n",
    "          iid_found = True\n",
    "          break\n",
    "      if not iid_found:\n",
    "        scores.append(0)\n",
    "    ndcg_scores[uid] = ndcg_at_k(scores)\n",
    "\n",
    "  ndcg_score = sum(ndcg for ndcg in ndcg_scores.values())/len(ndcg_scores)\n",
    "  return ndcg_score\n",
    "\n",
    "# returns f-measure based on precision and recall\n",
    "def get_f_measure(precision, recall):\n",
    "  return (2*precision*recall)/(precision + recall)\n",
    "\n",
    "def get_final_metrics(predictions):\n",
    "  precisions, recalls = precision_recall_at_k(predictions)\n",
    "  precision = sum(precisions.values())/len(precisions)\n",
    "  recall = sum(recalls.values())/len(recalls)\n",
    "  f1 = get_f_measure(precision, recall)\n",
    "  ndcg = get_ndcg(predictions, n=10)\n",
    "  print(\"Precision : \", precision)\n",
    "  print(\"Recall : \", recall)\n",
    "  print(\"F1 Score : \", f1)\n",
    "  print(\"NGCG : \", ndcg)\n",
    "\n",
    "\n",
    "\n",
    "def precision_recall_at_k(predictions, k=10, threshold=3.5):\n",
    "\n",
    "    user_est_true = defaultdict(list)\n",
    "    for uid, _, true_r, est, _ in predictions:\n",
    "        user_est_true[uid].append((est, true_r))\n",
    "\n",
    "    precisions = dict()\n",
    "    recalls = dict()\n",
    "    for uid, user_ratings in user_est_true.items():\n",
    "\n",
    "        # Sort user ratings by estimated value\n",
    "        user_ratings.sort(key=lambda x: x[0], reverse=True)\n",
    "\n",
    "        # Number of relevant items\n",
    "        n_rel = sum((true_r >= threshold) for (_, true_r) in user_ratings)\n",
    "\n",
    "        # Number of recommended items in top k\n",
    "        n_rec_k = sum((est >= threshold) for (est, _) in user_ratings[:k])\n",
    "\n",
    "        # Number of relevant and recommended items in top k\n",
    "        n_rel_and_rec_k = sum(((true_r >= threshold) and (est >= threshold))\n",
    "                              for (est, true_r) in user_ratings[:k])\n",
    "\n",
    "        # Precision@K: Proportion of recommended items that are relevant\n",
    "        # When n_rec_k is 0, Precision is undefined. We here set it to 0.\n",
    "\n",
    "        precisions[uid] = n_rel_and_rec_k / n_rec_k if n_rec_k != 0 else 0\n",
    "\n",
    "        # Recall@K: Proportion of relevant items that are recommended\n",
    "        # When n_rel is 0, Recall is undefined. We here set it to 0.\n",
    "\n",
    "        recalls[uid] = n_rel_and_rec_k / n_rel if n_rel != 0 else 0\n",
    "\n",
    "    return precisions, recalls\n",
    "\n"
   ]
  },
  {
   "cell_type": "markdown",
   "metadata": {
    "id": "Nypbdcaj-3vw"
   },
   "source": [
    "## User-based KNN with MSD"
   ]
  },
  {
   "cell_type": "code",
   "execution_count": 31,
   "metadata": {
    "colab": {
     "base_uri": "https://localhost:8080/"
    },
    "id": "rYRbhYa-htxW",
    "outputId": "8bba989c-1e1b-42d5-b79b-3672d0b3eb04"
   },
   "outputs": [
    {
     "name": "stdout",
     "output_type": "stream",
     "text": [
      "Computing the msd similarity matrix...\n",
      "Done computing similarity matrix.\n",
      "RMSE: 0.7410\n",
      "MAE:  0.4328\n",
      "Computing the msd similarity matrix...\n",
      "Done computing similarity matrix.\n",
      "RMSE: 0.7283\n",
      "MAE:  0.4288\n",
      "Computing the msd similarity matrix...\n",
      "Done computing similarity matrix.\n",
      "RMSE: 0.7301\n",
      "MAE:  0.4281\n",
      "Final results\n",
      "RMSE: 0.7364\n",
      "MAE:  0.4301\n"
     ]
    }
   ],
   "source": [
    "# KNN using Mean Squared Difference\n",
    "algorithm = KNNBasic()\n",
    "algorithm = runKFoldCV(trainset, algorithm)\n",
    "predictions = getFinalResults(testset, algorithm)"
   ]
  },
  {
   "cell_type": "code",
   "execution_count": 32,
   "metadata": {
    "colab": {
     "base_uri": "https://localhost:8080/"
    },
    "id": "7h-fVzCwdDyc",
    "outputId": "9fc4c9e8-506b-430b-be16-c57aee3b6a12"
   },
   "outputs": [
    {
     "name": "stdout",
     "output_type": "stream",
     "text": [
      "Precision :  0.9354334517673364\n",
      "Recall :  0.9451533825659346\n",
      "F1 Score :  0.9402682981311821\n",
      "NGCG :  0.8374343494098236\n"
     ]
    }
   ],
   "source": [
    "get_final_metrics(predictions)"
   ]
  },
  {
   "cell_type": "markdown",
   "metadata": {
    "id": "K5SINtq_IKSH"
   },
   "source": [
    "## User-based KNN with Cosine Similarity"
   ]
  },
  {
   "cell_type": "code",
   "execution_count": 33,
   "metadata": {
    "colab": {
     "base_uri": "https://localhost:8080/"
    },
    "id": "g6uXoH5zHX7A",
    "outputId": "77669fe9-8121-4a08-973f-555b9ab6ed88"
   },
   "outputs": [
    {
     "name": "stdout",
     "output_type": "stream",
     "text": [
      "Computing the cosine similarity matrix...\n",
      "Done computing similarity matrix.\n",
      "RMSE: 0.7789\n",
      "MAE:  0.4743\n",
      "Computing the cosine similarity matrix...\n",
      "Done computing similarity matrix.\n",
      "RMSE: 0.7847\n",
      "MAE:  0.4777\n",
      "Computing the cosine similarity matrix...\n",
      "Done computing similarity matrix.\n",
      "RMSE: 0.7783\n",
      "MAE:  0.4751\n",
      "Final results\n",
      "RMSE: 0.7761\n",
      "MAE:  0.4748\n"
     ]
    }
   ],
   "source": [
    "# KNN with cosine similarity\n",
    "\n",
    "sim_options = {'name': 'cosine'\n",
    "               }\n",
    "algorithm = KNNBasic(sim_options=sim_options)\n",
    "algorithm = runKFoldCV(trainset, algorithm)\n",
    "predictions =  getFinalResults(testset, algorithm)"
   ]
  },
  {
   "cell_type": "code",
   "execution_count": 34,
   "metadata": {
    "id": "jzkZjfQEhemO"
   },
   "outputs": [
    {
     "name": "stdout",
     "output_type": "stream",
     "text": [
      "Precision :  0.9336707034312506\n",
      "Recall :  0.9431566636986979\n",
      "F1 Score :  0.938389711343615\n",
      "NGCG :  0.8371616347196189\n"
     ]
    }
   ],
   "source": [
    "get_final_metrics(predictions)"
   ]
  },
  {
   "cell_type": "markdown",
   "metadata": {
    "id": "42oKF_9RRq6f"
   },
   "source": [
    "## Item-based KNN with MSD"
   ]
  },
  {
   "cell_type": "code",
   "execution_count": 35,
   "metadata": {
    "colab": {
     "base_uri": "https://localhost:8080/"
    },
    "id": "IiYr83GpRmPn",
    "outputId": "8d44cf19-755c-4d9d-825a-4826e3c1b3c5"
   },
   "outputs": [
    {
     "name": "stdout",
     "output_type": "stream",
     "text": [
      "Computing the msd similarity matrix...\n",
      "Done computing similarity matrix.\n",
      "RMSE: 0.6156\n",
      "MAE:  0.3361\n",
      "Computing the msd similarity matrix...\n",
      "Done computing similarity matrix.\n",
      "RMSE: 0.6254\n",
      "MAE:  0.3382\n",
      "Computing the msd similarity matrix...\n",
      "Done computing similarity matrix.\n",
      "RMSE: 0.6233\n",
      "MAE:  0.3397\n",
      "Final results\n",
      "RMSE: 0.6206\n",
      "MAE:  0.3387\n"
     ]
    }
   ],
   "source": [
    "# KNN with MSD\n",
    "\n",
    "sim_options = {'name': 'MSD',\n",
    "               'user_based': False \n",
    "               }\n",
    "algorithm = KNNBasic(sim_options=sim_options)\n",
    "algorithm = runKFoldCV(trainset, algorithm)\n",
    "predictions =  getFinalResults(testset, algorithm)"
   ]
  },
  {
   "cell_type": "code",
   "execution_count": 36,
   "metadata": {
    "colab": {
     "base_uri": "https://localhost:8080/"
    },
    "id": "FcLkzCNmhdmV",
    "outputId": "b636a6d2-4d2f-4732-ae65-21b12c9672b2"
   },
   "outputs": [
    {
     "name": "stdout",
     "output_type": "stream",
     "text": [
      "Precision :  0.9365240216088443\n",
      "Recall :  0.9497489620254836\n",
      "F1 Score :  0.9430901308051203\n",
      "NGCG :  0.8435051053804237\n"
     ]
    }
   ],
   "source": [
    "get_final_metrics(predictions)"
   ]
  },
  {
   "cell_type": "markdown",
   "metadata": {
    "id": "uUViHe0mR2Rp"
   },
   "source": [
    "## Item-based KNN with cosine similarity"
   ]
  },
  {
   "cell_type": "code",
   "execution_count": 37,
   "metadata": {
    "colab": {
     "base_uri": "https://localhost:8080/"
    },
    "id": "_8RvkFv6R5kV",
    "outputId": "150f4f60-96f6-4359-f5e8-ec8602ac084b"
   },
   "outputs": [
    {
     "name": "stdout",
     "output_type": "stream",
     "text": [
      "Computing the cosine similarity matrix...\n",
      "Done computing similarity matrix.\n",
      "RMSE: 0.6345\n",
      "MAE:  0.3527\n",
      "Computing the cosine similarity matrix...\n",
      "Done computing similarity matrix.\n",
      "RMSE: 0.6431\n",
      "MAE:  0.3568\n",
      "Computing the cosine similarity matrix...\n",
      "Done computing similarity matrix.\n",
      "RMSE: 0.6456\n",
      "MAE:  0.3583\n",
      "Final results\n",
      "RMSE: 0.6363\n",
      "MAE:  0.3554\n"
     ]
    }
   ],
   "source": [
    "# KNN with cosine similarity\n",
    "\n",
    "sim_options = {'name': 'cosine',\n",
    "               'user_based': False \n",
    "               }\n",
    "algorithm = KNNBasic(sim_options=sim_options)\n",
    "algorithm = runKFoldCV(trainset, algorithm)\n",
    "predictions =  getFinalResults(testset, algorithm)"
   ]
  },
  {
   "cell_type": "code",
   "execution_count": 38,
   "metadata": {
    "colab": {
     "base_uri": "https://localhost:8080/"
    },
    "id": "3Ji-rQi_hcnR",
    "outputId": "585708dc-a17f-472a-a567-bfb73811d33e"
   },
   "outputs": [
    {
     "name": "stdout",
     "output_type": "stream",
     "text": [
      "Precision :  0.9347973158136801\n",
      "Recall :  0.9483248081957674\n",
      "F1 Score :  0.9415124743300811\n",
      "NGCG :  0.8432162685787176\n"
     ]
    }
   ],
   "source": [
    "get_final_metrics(predictions)"
   ]
  },
  {
   "cell_type": "markdown",
   "metadata": {
    "id": "-KDyyDHe-5WP"
   },
   "source": [
    "## SVD"
   ]
  },
  {
   "cell_type": "code",
   "execution_count": 39,
   "metadata": {
    "colab": {
     "base_uri": "https://localhost:8080/"
    },
    "id": "hZgGs79Oc_p9",
    "outputId": "63674f67-dc10-432e-bc36-26d7c7efed00"
   },
   "outputs": [
    {
     "name": "stdout",
     "output_type": "stream",
     "text": [
      "RMSE: 0.5822\n",
      "MAE:  0.3558\n",
      "RMSE: 0.5874\n",
      "MAE:  0.3593\n",
      "RMSE: 0.5892\n",
      "MAE:  0.3598\n",
      "Final results\n",
      "RMSE: 0.5892\n",
      "MAE:  0.3604\n"
     ]
    }
   ],
   "source": [
    "# SVD\n",
    "algorithm = SVD()\n",
    "algorithm = runKFoldCV(trainset, algorithm)\n",
    "predictions = getFinalResults(testset, algorithm)"
   ]
  },
  {
   "cell_type": "code",
   "execution_count": 40,
   "metadata": {
    "colab": {
     "base_uri": "https://localhost:8080/"
    },
    "id": "KVm7q9gVQr5r",
    "outputId": "23e9decb-a35d-4686-d606-6be4c327eca3"
   },
   "outputs": [
    {
     "name": "stdout",
     "output_type": "stream",
     "text": [
      "Precision :  0.9390098250179326\n",
      "Recall :  0.9592629357652823\n",
      "F1 Score :  0.9490283378322296\n",
      "NGCG :  0.8244678892729881\n"
     ]
    }
   ],
   "source": [
    "get_final_metrics(predictions)"
   ]
  },
  {
   "cell_type": "markdown",
   "metadata": {
    "id": "NntV2FUr-8O2"
   },
   "source": [
    "## NMF"
   ]
  },
  {
   "cell_type": "code",
   "execution_count": 41,
   "metadata": {
    "colab": {
     "base_uri": "https://localhost:8080/"
    },
    "id": "WkA6bDNFejUU",
    "outputId": "6b3aa26d-8a2a-477b-eb46-530d7684c7cd"
   },
   "outputs": [
    {
     "name": "stdout",
     "output_type": "stream",
     "text": [
      "RMSE: 0.7789\n",
      "MAE:  0.5880\n",
      "RMSE: 0.7916\n",
      "MAE:  0.5963\n",
      "RMSE: 0.7932\n",
      "MAE:  0.5977\n",
      "Final results\n",
      "RMSE: 0.7882\n",
      "MAE:  0.5972\n"
     ]
    }
   ],
   "source": [
    "# NMF\n",
    "algorithm = NMF()\n",
    "algorithm = runKFoldCV(trainset, algorithm)\n",
    "predictions =  getFinalResults(testset, algorithm)"
   ]
  },
  {
   "cell_type": "code",
   "execution_count": 42,
   "metadata": {
    "colab": {
     "base_uri": "https://localhost:8080/"
    },
    "id": "Q2nX70cyfI9g",
    "outputId": "6c2de43b-5f6d-455a-c51c-6f9f47862ea0"
   },
   "outputs": [
    {
     "name": "stdout",
     "output_type": "stream",
     "text": [
      "Precision :  0.9017115738854222\n",
      "Recall :  0.8848567172356707\n",
      "F1 Score :  0.8932046394498382\n",
      "NGCG :  0.8233368362863972\n"
     ]
    }
   ],
   "source": [
    "get_final_metrics(predictions)"
   ]
  },
  {
   "cell_type": "code",
   "execution_count": null,
   "metadata": {
    "id": "qJwTj8c76eS0"
   },
   "outputs": [],
   "source": []
  }
 ],
 "metadata": {
  "colab": {
   "collapsed_sections": [
    "K5SINtq_IKSH"
   ],
   "name": "Apr 20 (10:30pm) Final Copy of MDM-Project.ipynb",
   "provenance": []
  },
  "kernelspec": {
   "display_name": "Python 3",
   "language": "python",
   "name": "python3"
  },
  "language_info": {
   "codemirror_mode": {
    "name": "ipython",
    "version": 3
   },
   "file_extension": ".py",
   "mimetype": "text/x-python",
   "name": "python",
   "nbconvert_exporter": "python",
   "pygments_lexer": "ipython3",
   "version": "3.8.8"
  }
 },
 "nbformat": 4,
 "nbformat_minor": 4
}
