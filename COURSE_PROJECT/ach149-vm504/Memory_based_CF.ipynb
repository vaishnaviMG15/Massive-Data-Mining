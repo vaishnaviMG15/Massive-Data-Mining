{
 "cells": [
  {
   "cell_type": "code",
   "execution_count": 1,
   "metadata": {
    "colab": {
     "base_uri": "https://localhost:8080/"
    },
    "id": "DJRAKPi8WfJQ",
    "outputId": "47f87f01-75c9-4ccd-a4b6-065933adf839"
   },
   "outputs": [
    {
     "name": "stdout",
     "output_type": "stream",
     "text": [
      "Mounted at /content/gdrive\n"
     ]
    }
   ],
   "source": [
    "from google.colab import drive\n",
    "drive.mount('/content/gdrive')"
   ]
  },
  {
   "cell_type": "code",
   "execution_count": 1,
   "metadata": {
    "id": "DqmMMpiKWkQ-"
   },
   "outputs": [],
   "source": [
    "import pandas as pd\n",
    "import numpy as np\n",
    "import matplotlib.pyplot as plt\n",
    "import seaborn as sns\n",
    "import math\n",
    "%matplotlib inline"
   ]
  },
  {
   "cell_type": "markdown",
   "metadata": {
    "id": "sRa3cI50WvvW"
   },
   "source": [
    "# Importing and Cleaning"
   ]
  },
  {
   "cell_type": "code",
   "execution_count": 2,
   "metadata": {
    "id": "_TbhDw-YWyWV"
   },
   "outputs": [],
   "source": [
    "jsonFile = 'Digital_Music_5.json'\n",
    "df = pd.read_json(jsonFile, lines=True)\n",
    "# df.to_csv('DigitalMusicReviews.csv', sep=',', index=False)"
   ]
  },
  {
   "cell_type": "code",
   "execution_count": 3,
   "metadata": {
    "colab": {
     "base_uri": "https://localhost:8080/"
    },
    "id": "PJan1TxAWzet",
    "outputId": "dce8b076-11be-4ee5-a502-90f2bd9bb820"
   },
   "outputs": [
    {
     "name": "stdout",
     "output_type": "stream",
     "text": [
      "Dataframe shape :  (169781, 12)\n",
      "Nan values per column overall                0\n",
      "vote              162170\n",
      "verified               0\n",
      "reviewTime             0\n",
      "reviewerID             0\n",
      "asin                   0\n",
      "style              11792\n",
      "reviewerName           5\n",
      "reviewText           158\n",
      "summary               36\n",
      "unixReviewTime         0\n",
      "image             169599\n",
      "dtype: int64\n"
     ]
    }
   ],
   "source": [
    "print(\"Dataframe shape : \", df.shape)\n",
    "print(\"Nan values per column\",df.isna().sum())"
   ]
  },
  {
   "cell_type": "code",
   "execution_count": 4,
   "metadata": {
    "colab": {
     "base_uri": "https://localhost:8080/"
    },
    "id": "6VnE6HuVW1Ef",
    "outputId": "3c21cebe-fd87-4e78-88a7-6fa622f72951"
   },
   "outputs": [
    {
     "data": {
      "text/plain": [
       "overall             0\n",
       "verified            0\n",
       "reviewTime          0\n",
       "reviewerID          0\n",
       "asin                0\n",
       "reviewerName        5\n",
       "reviewText        158\n",
       "summary            36\n",
       "unixReviewTime      0\n",
       "dtype: int64"
      ]
     },
     "execution_count": 4,
     "metadata": {},
     "output_type": "execute_result"
    }
   ],
   "source": [
    "# Dropping columns - style image and vote\n",
    "df.drop(['style','image','vote'],axis = 1, inplace=True)\n",
    "df.isna().sum()"
   ]
  },
  {
   "cell_type": "code",
   "execution_count": 5,
   "metadata": {
    "colab": {
     "base_uri": "https://localhost:8080/"
    },
    "id": "HJaPnrXcW3nj",
    "outputId": "10bfad42-5267-4696-f79a-4b9b3141e3be"
   },
   "outputs": [
    {
     "name": "stdout",
     "output_type": "stream",
     "text": [
      "Dataframe shape after dropping nans :  (169606, 9)\n",
      "Nan values per column after dropping nans :  overall           0\n",
      "verified          0\n",
      "reviewTime        0\n",
      "reviewerID        0\n",
      "asin              0\n",
      "reviewerName      0\n",
      "reviewText        0\n",
      "summary           0\n",
      "unixReviewTime    0\n",
      "dtype: int64\n"
     ]
    }
   ],
   "source": [
    "# Dropping rows wil null values\n",
    "df.dropna(axis=0,inplace=True)\n",
    "print(\"Dataframe shape after dropping nans : \", df.shape)\n",
    "print(\"Nan values per column after dropping nans : \",df.isna().sum())"
   ]
  },
  {
   "cell_type": "code",
   "execution_count": 6,
   "metadata": {
    "id": "s2IhQIWDW5Ok"
   },
   "outputs": [],
   "source": [
    "df.rename(columns={\"overall\":\"rating\", \"asin\":\"productID\" }, inplace=True)"
   ]
  },
  {
   "cell_type": "code",
   "execution_count": 7,
   "metadata": {
    "colab": {
     "base_uri": "https://localhost:8080/",
     "height": 250
    },
    "id": "OZHikWKLW6-k",
    "outputId": "4e8c61cc-c0bd-48d2-867f-25d634f8b364"
   },
   "outputs": [
    {
     "data": {
      "text/html": [
       "<div>\n",
       "<style scoped>\n",
       "    .dataframe tbody tr th:only-of-type {\n",
       "        vertical-align: middle;\n",
       "    }\n",
       "\n",
       "    .dataframe tbody tr th {\n",
       "        vertical-align: top;\n",
       "    }\n",
       "\n",
       "    .dataframe thead th {\n",
       "        text-align: right;\n",
       "    }\n",
       "</style>\n",
       "<table border=\"1\" class=\"dataframe\">\n",
       "  <thead>\n",
       "    <tr style=\"text-align: right;\">\n",
       "      <th></th>\n",
       "      <th>rating</th>\n",
       "      <th>verified</th>\n",
       "      <th>reviewTime</th>\n",
       "      <th>reviewerID</th>\n",
       "      <th>productID</th>\n",
       "      <th>reviewerName</th>\n",
       "      <th>reviewText</th>\n",
       "      <th>summary</th>\n",
       "      <th>unixReviewTime</th>\n",
       "    </tr>\n",
       "  </thead>\n",
       "  <tbody>\n",
       "    <tr>\n",
       "      <th>0</th>\n",
       "      <td>5</td>\n",
       "      <td>True</td>\n",
       "      <td>06 3, 2013</td>\n",
       "      <td>A2TYZ821XXK2YZ</td>\n",
       "      <td>3426958910</td>\n",
       "      <td>Garrett</td>\n",
       "      <td>This is awesome to listen to, A must-have for ...</td>\n",
       "      <td>Slayer Rules!</td>\n",
       "      <td>1370217600</td>\n",
       "    </tr>\n",
       "    <tr>\n",
       "      <th>1</th>\n",
       "      <td>5</td>\n",
       "      <td>True</td>\n",
       "      <td>10 11, 2014</td>\n",
       "      <td>A3OFSREZADFUDY</td>\n",
       "      <td>3426958910</td>\n",
       "      <td>Ad</td>\n",
       "      <td>bien</td>\n",
       "      <td>Five Stars</td>\n",
       "      <td>1412985600</td>\n",
       "    </tr>\n",
       "    <tr>\n",
       "      <th>2</th>\n",
       "      <td>5</td>\n",
       "      <td>True</td>\n",
       "      <td>02 11, 2014</td>\n",
       "      <td>A2VAMODP8M77NG</td>\n",
       "      <td>3426958910</td>\n",
       "      <td>JTGabq</td>\n",
       "      <td>It was great to hear the old stuff again and I...</td>\n",
       "      <td>SLAYER!!!!!!!!!!!!!!!!!!!!!</td>\n",
       "      <td>1392076800</td>\n",
       "    </tr>\n",
       "    <tr>\n",
       "      <th>3</th>\n",
       "      <td>4</td>\n",
       "      <td>False</td>\n",
       "      <td>12 7, 2013</td>\n",
       "      <td>AAKSLZ9IDTEH0</td>\n",
       "      <td>3426958910</td>\n",
       "      <td>john F&amp;#039;n doe</td>\n",
       "      <td>well best of's are a bit poison normally but t...</td>\n",
       "      <td>slayer greatest hits! you mean everything righ...</td>\n",
       "      <td>1386374400</td>\n",
       "    </tr>\n",
       "    <tr>\n",
       "      <th>4</th>\n",
       "      <td>5</td>\n",
       "      <td>True</td>\n",
       "      <td>06 12, 2016</td>\n",
       "      <td>A3OH43OZJLKI09</td>\n",
       "      <td>5557706259</td>\n",
       "      <td>melinda a goodman</td>\n",
       "      <td>What can I say? This is Casting Crowns!!!This ...</td>\n",
       "      <td>This is a good, blessing filled</td>\n",
       "      <td>1465689600</td>\n",
       "    </tr>\n",
       "  </tbody>\n",
       "</table>\n",
       "</div>"
      ],
      "text/plain": [
       "   rating  verified   reviewTime      reviewerID   productID  \\\n",
       "0       5      True   06 3, 2013  A2TYZ821XXK2YZ  3426958910   \n",
       "1       5      True  10 11, 2014  A3OFSREZADFUDY  3426958910   \n",
       "2       5      True  02 11, 2014  A2VAMODP8M77NG  3426958910   \n",
       "3       4     False   12 7, 2013   AAKSLZ9IDTEH0  3426958910   \n",
       "4       5      True  06 12, 2016  A3OH43OZJLKI09  5557706259   \n",
       "\n",
       "        reviewerName                                         reviewText  \\\n",
       "0            Garrett  This is awesome to listen to, A must-have for ...   \n",
       "1                 Ad                                               bien   \n",
       "2             JTGabq  It was great to hear the old stuff again and I...   \n",
       "3  john F&#039;n doe  well best of's are a bit poison normally but t...   \n",
       "4  melinda a goodman  What can I say? This is Casting Crowns!!!This ...   \n",
       "\n",
       "                                             summary  unixReviewTime  \n",
       "0                                      Slayer Rules!      1370217600  \n",
       "1                                         Five Stars      1412985600  \n",
       "2                        SLAYER!!!!!!!!!!!!!!!!!!!!!      1392076800  \n",
       "3  slayer greatest hits! you mean everything righ...      1386374400  \n",
       "4                    This is a good, blessing filled      1465689600  "
      ]
     },
     "execution_count": 7,
     "metadata": {},
     "output_type": "execute_result"
    }
   ],
   "source": [
    "df.head()"
   ]
  },
  {
   "cell_type": "code",
   "execution_count": 8,
   "metadata": {
    "colab": {
     "base_uri": "https://localhost:8080/",
     "height": 206
    },
    "id": "ZyxlkS2za1E5",
    "outputId": "92762464-30ed-4002-951a-8848c04160b5"
   },
   "outputs": [
    {
     "data": {
      "text/html": [
       "<div>\n",
       "<style scoped>\n",
       "    .dataframe tbody tr th:only-of-type {\n",
       "        vertical-align: middle;\n",
       "    }\n",
       "\n",
       "    .dataframe tbody tr th {\n",
       "        vertical-align: top;\n",
       "    }\n",
       "\n",
       "    .dataframe thead th {\n",
       "        text-align: right;\n",
       "    }\n",
       "</style>\n",
       "<table border=\"1\" class=\"dataframe\">\n",
       "  <thead>\n",
       "    <tr style=\"text-align: right;\">\n",
       "      <th></th>\n",
       "      <th>reviewerID</th>\n",
       "      <th>productID</th>\n",
       "      <th>rating</th>\n",
       "      <th>unixReviewTime</th>\n",
       "    </tr>\n",
       "  </thead>\n",
       "  <tbody>\n",
       "    <tr>\n",
       "      <th>0</th>\n",
       "      <td>A2TYZ821XXK2YZ</td>\n",
       "      <td>3426958910</td>\n",
       "      <td>5</td>\n",
       "      <td>1370217600</td>\n",
       "    </tr>\n",
       "    <tr>\n",
       "      <th>1</th>\n",
       "      <td>A3OFSREZADFUDY</td>\n",
       "      <td>3426958910</td>\n",
       "      <td>5</td>\n",
       "      <td>1412985600</td>\n",
       "    </tr>\n",
       "    <tr>\n",
       "      <th>2</th>\n",
       "      <td>A2VAMODP8M77NG</td>\n",
       "      <td>3426958910</td>\n",
       "      <td>5</td>\n",
       "      <td>1392076800</td>\n",
       "    </tr>\n",
       "    <tr>\n",
       "      <th>3</th>\n",
       "      <td>AAKSLZ9IDTEH0</td>\n",
       "      <td>3426958910</td>\n",
       "      <td>4</td>\n",
       "      <td>1386374400</td>\n",
       "    </tr>\n",
       "    <tr>\n",
       "      <th>4</th>\n",
       "      <td>A3OH43OZJLKI09</td>\n",
       "      <td>5557706259</td>\n",
       "      <td>5</td>\n",
       "      <td>1465689600</td>\n",
       "    </tr>\n",
       "  </tbody>\n",
       "</table>\n",
       "</div>"
      ],
      "text/plain": [
       "       reviewerID   productID  rating  unixReviewTime\n",
       "0  A2TYZ821XXK2YZ  3426958910       5      1370217600\n",
       "1  A3OFSREZADFUDY  3426958910       5      1412985600\n",
       "2  A2VAMODP8M77NG  3426958910       5      1392076800\n",
       "3   AAKSLZ9IDTEH0  3426958910       4      1386374400\n",
       "4  A3OH43OZJLKI09  5557706259       5      1465689600"
      ]
     },
     "execution_count": 8,
     "metadata": {},
     "output_type": "execute_result"
    }
   ],
   "source": [
    "truncated_df = df[['reviewerID','productID','rating','unixReviewTime']]\n",
    "truncated_df.head()"
   ]
  },
  {
   "cell_type": "code",
   "execution_count": 9,
   "metadata": {
    "colab": {
     "base_uri": "https://localhost:8080/"
    },
    "id": "kpoHSdsKbRR1",
    "outputId": "a38cee98-c6cb-407e-9db5-6049d9a34edf"
   },
   "outputs": [
    {
     "data": {
      "text/plain": [
       "reviewerID        object\n",
       "productID         object\n",
       "rating             int64\n",
       "unixReviewTime     int64\n",
       "dtype: object"
      ]
     },
     "execution_count": 9,
     "metadata": {},
     "output_type": "execute_result"
    }
   ],
   "source": [
    "truncated_df.dtypes"
   ]
  },
  {
   "cell_type": "code",
   "execution_count": 10,
   "metadata": {
    "colab": {
     "base_uri": "https://localhost:8080/"
    },
    "id": "y55ZDXabW8Zw",
    "outputId": "cbe7f02c-cf2d-4014-8c08-52ce651977c5"
   },
   "outputs": [
    {
     "name": "stdout",
     "output_type": "stream",
     "text": [
      "16560 users\n",
      "11797 items\n"
     ]
    }
   ],
   "source": [
    "n_users = truncated_df['reviewerID'].unique().shape[0]\n",
    "n_items = truncated_df['productID'].unique().shape[0]\n",
    "print(str(n_users) + ' users')\n",
    "print(str(n_items) + ' items')\n"
   ]
  },
  {
   "cell_type": "code",
   "execution_count": 11,
   "metadata": {
    "colab": {
     "base_uri": "https://localhost:8080/",
     "height": 427
    },
    "id": "UTt1wfH1hPyL",
    "outputId": "f79d74ae-4fba-4fed-b0b0-2823a8850504"
   },
   "outputs": [
    {
     "name": "stderr",
     "output_type": "stream",
     "text": [
      "<ipython-input-11-338839670b4c>:2: SettingWithCopyWarning: \n",
      "A value is trying to be set on a copy of a slice from a DataFrame.\n",
      "Try using .loc[row_indexer,col_indexer] = value instead\n",
      "\n",
      "See the caveats in the documentation: https://pandas.pydata.org/pandas-docs/stable/user_guide/indexing.html#returning-a-view-versus-a-copy\n",
      "  truncated_df['productCode'] = codes\n",
      "<ipython-input-11-338839670b4c>:5: SettingWithCopyWarning: \n",
      "A value is trying to be set on a copy of a slice from a DataFrame.\n",
      "Try using .loc[row_indexer,col_indexer] = value instead\n",
      "\n",
      "See the caveats in the documentation: https://pandas.pydata.org/pandas-docs/stable/user_guide/indexing.html#returning-a-view-versus-a-copy\n",
      "  truncated_df['reviewerCode'] = codes\n"
     ]
    },
    {
     "data": {
      "text/html": [
       "<div>\n",
       "<style scoped>\n",
       "    .dataframe tbody tr th:only-of-type {\n",
       "        vertical-align: middle;\n",
       "    }\n",
       "\n",
       "    .dataframe tbody tr th {\n",
       "        vertical-align: top;\n",
       "    }\n",
       "\n",
       "    .dataframe thead th {\n",
       "        text-align: right;\n",
       "    }\n",
       "</style>\n",
       "<table border=\"1\" class=\"dataframe\">\n",
       "  <thead>\n",
       "    <tr style=\"text-align: right;\">\n",
       "      <th></th>\n",
       "      <th>reviewerID</th>\n",
       "      <th>productID</th>\n",
       "      <th>rating</th>\n",
       "      <th>unixReviewTime</th>\n",
       "      <th>productCode</th>\n",
       "      <th>reviewerCode</th>\n",
       "    </tr>\n",
       "  </thead>\n",
       "  <tbody>\n",
       "    <tr>\n",
       "      <th>0</th>\n",
       "      <td>A2TYZ821XXK2YZ</td>\n",
       "      <td>3426958910</td>\n",
       "      <td>5</td>\n",
       "      <td>1370217600</td>\n",
       "      <td>0</td>\n",
       "      <td>0</td>\n",
       "    </tr>\n",
       "    <tr>\n",
       "      <th>1</th>\n",
       "      <td>A3OFSREZADFUDY</td>\n",
       "      <td>3426958910</td>\n",
       "      <td>5</td>\n",
       "      <td>1412985600</td>\n",
       "      <td>0</td>\n",
       "      <td>1</td>\n",
       "    </tr>\n",
       "    <tr>\n",
       "      <th>2</th>\n",
       "      <td>A2VAMODP8M77NG</td>\n",
       "      <td>3426958910</td>\n",
       "      <td>5</td>\n",
       "      <td>1392076800</td>\n",
       "      <td>0</td>\n",
       "      <td>2</td>\n",
       "    </tr>\n",
       "    <tr>\n",
       "      <th>3</th>\n",
       "      <td>AAKSLZ9IDTEH0</td>\n",
       "      <td>3426958910</td>\n",
       "      <td>4</td>\n",
       "      <td>1386374400</td>\n",
       "      <td>0</td>\n",
       "      <td>3</td>\n",
       "    </tr>\n",
       "    <tr>\n",
       "      <th>4</th>\n",
       "      <td>A3OH43OZJLKI09</td>\n",
       "      <td>5557706259</td>\n",
       "      <td>5</td>\n",
       "      <td>1465689600</td>\n",
       "      <td>1</td>\n",
       "      <td>4</td>\n",
       "    </tr>\n",
       "  </tbody>\n",
       "</table>\n",
       "</div>"
      ],
      "text/plain": [
       "       reviewerID   productID  rating  unixReviewTime  productCode  \\\n",
       "0  A2TYZ821XXK2YZ  3426958910       5      1370217600            0   \n",
       "1  A3OFSREZADFUDY  3426958910       5      1412985600            0   \n",
       "2  A2VAMODP8M77NG  3426958910       5      1392076800            0   \n",
       "3   AAKSLZ9IDTEH0  3426958910       4      1386374400            0   \n",
       "4  A3OH43OZJLKI09  5557706259       5      1465689600            1   \n",
       "\n",
       "   reviewerCode  \n",
       "0             0  \n",
       "1             1  \n",
       "2             2  \n",
       "3             3  \n",
       "4             4  "
      ]
     },
     "execution_count": 11,
     "metadata": {},
     "output_type": "execute_result"
    }
   ],
   "source": [
    "codes, uniques = pd.factorize(truncated_df['productID'])\n",
    "truncated_df['productCode'] = codes\n",
    "\n",
    "codes, uniques = pd.factorize(truncated_df['reviewerID'])\n",
    "truncated_df['reviewerCode'] = codes\n",
    "\n",
    "truncated_df.head()"
   ]
  },
  {
   "cell_type": "code",
   "execution_count": 12,
   "metadata": {
    "colab": {
     "base_uri": "https://localhost:8080/"
    },
    "id": "91e8F8hQabDh",
    "outputId": "c7b102a6-4b09-482c-e412-c4e1523af77c"
   },
   "outputs": [
    {
     "data": {
      "text/plain": [
       "array([[5., 0., 0., ..., 0., 0., 0.],\n",
       "       [5., 0., 0., ..., 0., 0., 0.],\n",
       "       [5., 0., 0., ..., 0., 0., 0.],\n",
       "       ...,\n",
       "       [0., 0., 0., ..., 0., 0., 0.],\n",
       "       [0., 0., 0., ..., 0., 0., 0.],\n",
       "       [0., 0., 0., ..., 0., 0., 0.]])"
      ]
     },
     "execution_count": 12,
     "metadata": {},
     "output_type": "execute_result"
    }
   ],
   "source": [
    "ratings = np.zeros((n_users, n_items))\n",
    "for row in truncated_df.itertuples():\n",
    "    ratings[row[6], row[5]] = row[3]\n",
    "ratings\n"
   ]
  },
  {
   "cell_type": "code",
   "execution_count": 13,
   "metadata": {
    "colab": {
     "base_uri": "https://localhost:8080/"
    },
    "id": "CLLSnV4lbN0G",
    "outputId": "d4b6dfaf-60ce-4148-f907-cfc03edf0aeb"
   },
   "outputs": [
    {
     "name": "stdout",
     "output_type": "stream",
     "text": [
      "Sparsity: 0.07%\n"
     ]
    }
   ],
   "source": [
    "sparsity = float(len(ratings.nonzero()[0]))\n",
    "sparsity /= (ratings.shape[0] * ratings.shape[1])\n",
    "sparsity *= 100\n",
    "print('Sparsity: {:4.2f}%'.format(sparsity))\n"
   ]
  },
  {
   "cell_type": "code",
   "execution_count": 14,
   "metadata": {
    "id": "yc_iOe9div0m"
   },
   "outputs": [],
   "source": [
    "def train_test_split(ratings):\n",
    "    test = np.zeros(ratings.shape)\n",
    "    train = ratings.copy()\n",
    "    for user in range(ratings.shape[0]):\n",
    "        test_ratings = np.random.choice(ratings[user, :].nonzero()[0], \n",
    "                                        size=10)\n",
    "        train[user, test_ratings] = 0.\n",
    "        test[user, test_ratings] = ratings[user, test_ratings]\n",
    "        \n",
    "    # Test and training are truly disjoint\n",
    "    assert(np.all((train * test) == 0)) \n",
    "    return train, test\n"
   ]
  },
  {
   "cell_type": "code",
   "execution_count": 15,
   "metadata": {
    "id": "dpe3OO5Fi5hX"
   },
   "outputs": [],
   "source": [
    "train, test = train_test_split(ratings)\n"
   ]
  },
  {
   "cell_type": "code",
   "execution_count": 16,
   "metadata": {
    "id": "6ny3HQ-li8Ec"
   },
   "outputs": [],
   "source": [
    "def get_similarity(ratings, sType='user', epsilon=1e-9):\n",
    "    if sType == 'user':\n",
    "        sim = ratings.dot(ratings.T) + epsilon\n",
    "    elif sType == 'item':\n",
    "        sim = ratings.T.dot(ratings) + epsilon\n",
    "    norms = np.array([np.sqrt(np.diagonal(sim))])\n",
    "    return (sim / norms / norms.T)"
   ]
  },
  {
   "cell_type": "code",
   "execution_count": 17,
   "metadata": {
    "id": "FXpF3twjjdLk"
   },
   "outputs": [
    {
     "name": "stdout",
     "output_type": "stream",
     "text": [
      "[[1.00000000e+00 2.30940108e-11 2.46182982e-11 1.05851225e-11]\n",
      " [2.30940108e-11 1.00000000e+00 1.42133811e-11 6.11132331e-12]\n",
      " [2.46182982e-11 1.42133811e-11 1.00000000e+00 6.51469254e-12]\n",
      " [1.05851225e-11 6.11132331e-12 6.51469254e-12 1.00000000e+00]]\n"
     ]
    }
   ],
   "source": [
    "user_similarity = get_similarity(train, sType='user')\n",
    "item_similarity = get_similarity(train, sType='item')\n",
    "print(item_similarity[:4, :4])\n"
   ]
  },
  {
   "cell_type": "code",
   "execution_count": 18,
   "metadata": {
    "id": "qZN0b50Yjh18"
   },
   "outputs": [],
   "source": [
    "def predict(ratings, similarity, sType='user'):\n",
    "    if sType == 'user':\n",
    "        return similarity.dot(ratings) / np.array([np.abs(similarity).sum(axis=1)]).T\n",
    "    elif sType == 'item':\n",
    "        return ratings.dot(similarity) / np.array([np.abs(similarity).sum(axis=1)])"
   ]
  },
  {
   "cell_type": "code",
   "execution_count": 19,
   "metadata": {},
   "outputs": [],
   "source": [
    "from sklearn.metrics import mean_squared_error, mean_absolute_error\n",
    "def get_rmse(pred, actual):\n",
    "    pred = pred[actual.nonzero()].flatten()\n",
    "    actual = actual[actual.nonzero()].flatten()\n",
    "    return mean_squared_error(pred, actual, squared=False)\n",
    "\n",
    "def get_mae(pred, actual):\n",
    "    pred = pred[actual.nonzero()].flatten()\n",
    "    actual = actual[actual.nonzero()].flatten()\n",
    "    return mean_absolute_error(pred, actual)\n"
   ]
  },
  {
   "cell_type": "code",
   "execution_count": 20,
   "metadata": {},
   "outputs": [],
   "source": [
    "item_prediction = predict(train, item_similarity, sType='item')\n",
    "user_prediction = predict(train, user_similarity, sType='user')\n",
    "\n"
   ]
  },
  {
   "cell_type": "code",
   "execution_count": 21,
   "metadata": {},
   "outputs": [
    {
     "name": "stdout",
     "output_type": "stream",
     "text": [
      "User-based CF RMSE: 4.727863651274411\n",
      "Item-based CF RMSE: 4.7456039232984235\n"
     ]
    }
   ],
   "source": [
    "print('User-based CF RMSE: ' + str(get_rmse(user_prediction, test)))\n",
    "print('Item-based CF RMSE: ' + str(get_rmse(item_prediction, test)))"
   ]
  },
  {
   "cell_type": "code",
   "execution_count": 22,
   "metadata": {},
   "outputs": [
    {
     "name": "stdout",
     "output_type": "stream",
     "text": [
      "User-based CF MAE: 4.673628039552508\n",
      "Item-based CF MAE: 4.692815256461635\n"
     ]
    }
   ],
   "source": [
    "print('User-based CF MAE: ' + str(get_mae(user_prediction, test)))\n",
    "print('Item-based CF MAE: ' + str(get_mae(item_prediction, test)))"
   ]
  },
  {
   "cell_type": "markdown",
   "metadata": {},
   "source": [
    "**Recommendation Metrics**"
   ]
  },
  {
   "cell_type": "code",
   "execution_count": 30,
   "metadata": {},
   "outputs": [],
   "source": [
    "def get_top_n(prediction, actual, k=10):\n",
    "    top_n = {}\n",
    "    orig = {}\n",
    "    for user_num in range(len(prediction)):\n",
    "        \n",
    "        userID = truncated_df.loc[truncated_df['reviewerCode'] == user_num, 'reviewerID'].iloc[0]\n",
    "        \n",
    "        # CONSTRUCTION OF TOP_N\n",
    "        \n",
    "        user = prediction[user_num]\n",
    "        \n",
    "        # We only want the predictions of those items which have not been rated in training data\n",
    "        # i.e, they have a zero entry in train\n",
    "        l = []\n",
    "        for i in range(len(user)):\n",
    "            if (train[user_num][i] == 0):\n",
    "                # this item/prediction can be a potential recommendation\n",
    "                l.append((i, user[i]))\n",
    "        \n",
    "        # Description of l: [(item index, predicted rating), .......] for those items not rated in train data\n",
    "        \n",
    "        # sort l in descending order of prediction, and only consider first k elements for recommendation\n",
    "        l.sort(key=lambda x: x[1], reverse=True)\n",
    "        l = l[:k]\n",
    "        \n",
    "        # replace the item index with the item id\n",
    "        l2 = [(truncated_df.loc[truncated_df['productCode'] == x, 'productID'].iloc[0], y) for (x, y) in l]\n",
    "        \n",
    "        top_n[userID] = l2\n",
    "        \n",
    "        # CONSTRUCTION OF ORIG\n",
    "        \n",
    "        test_ratings = actual[user_num]\n",
    "        \n",
    "        m = []\n",
    "        \n",
    "        # We only want to store those items/ratings that have been rated in test data\n",
    "        # i.e, whose entry in actual array is 0\n",
    "        for i in range(len(test_ratings)):\n",
    "            if(test_ratings[i] != 0):\n",
    "                m.append((i,test_ratings[i]))\n",
    "        \n",
    "        # Description of m: [(item index, true test rating), .......] for non-zero ratings in test data\n",
    "        \n",
    "        # replace the item index with the item id\n",
    "        m2 = [(truncated_df.loc[truncated_df['productCode'] == x, 'productID'].iloc[0], y) for (x, y) in m]\n",
    "        \n",
    "        orig[userID] = m2\n",
    "        \n",
    "    return top_n, orig\n",
    "\n",
    "def get_pr(top_n, orig, k=10):\n",
    "    \n",
    "    # precision of each user = (# of non-zero rated items in test data that appear in top_n)/k\n",
    "    # recall of each user = (# of non-zero rated items in test data that appear in top_n)/ (# of non-zero test ratings)\n",
    "    num_users = len(top_n.keys())\n",
    "    precisions = {}\n",
    "    recalls = {}\n",
    "    for uid in top_n.keys():\n",
    "        rec = top_n[uid]\n",
    "        rated = orig[uid]\n",
    "        items_rated = [x for (x, y) in rated]\n",
    "        num_rated = len(rated)\n",
    "        \n",
    "        num_rated_and_recommended = 0\n",
    "        \n",
    "        for iid, pred in rec:\n",
    "            if(iid in items_rated):\n",
    "                num_rated_and_recommended += 1\n",
    "        \n",
    "        precisions[uid] = num_rated_and_recommended/k\n",
    "        recalls[uid] = num_rated_and_recommended/num_rated\n",
    "        \n",
    "    precision = sum(precisions.values())/num_users\n",
    "    recall = sum(recalls.values())/num_users\n",
    "    \n",
    "    return precision, recall\n",
    "\n",
    "def dcg_at_k(scores):\n",
    "    return scores[0] + sum(sc/math.log(ind, 2) for sc, ind in zip(scores[1:], range(2, len(scores) + 1)))\n",
    "\n",
    "def ndcg_at_k(scores):\n",
    "    idcg = dcg_at_k(sorted(scores, reverse=True))\n",
    "    return (dcg_at_k(scores)/idcg) if idcg > 0.0 else 0.0\n",
    "\n",
    "def get_ndcg(top_n, orig):\n",
    "    ndcg_scores = dict()\n",
    "    for uid, user_ratings in top_n.items():\n",
    "        scores = []\n",
    "        for iid, est_r in user_ratings:\n",
    "            iid_found = False\n",
    "            org_user_ratings = orig[uid]\n",
    "            for i, r in org_user_ratings:\n",
    "                if(iid == i):\n",
    "                    scores.append(r)\n",
    "                    iid_found = True\n",
    "                    break\n",
    "            if not iid_found:\n",
    "                scores.append(0)\n",
    "        ndcg_scores[uid] = ndcg_at_k(scores)\n",
    "    \n",
    "    ndcg_score = sum(ndcg for ndcg in ndcg_scores.values())/len(ndcg_scores)\n",
    "    return ndcg_score\n",
    "\n",
    "\n",
    "def get_f_measure(precision, recall):\n",
    "    try:\n",
    "        print(\"F1 Score: \", str((2*precision*recall)/(precision + recall)))\n",
    "    except:\n",
    "        print(\"values of precision and recall are too low to calculate f_measure\")\n",
    "            \n",
    "#Prints:\n",
    "# 1. precision (avg of precision for all users)\n",
    "# 2. recall (avg of recall for all users)\n",
    "# 3. F measure\n",
    "# 4. final ndgc score\n",
    "# returns: complete top_n recommendation dict {uid: [(item id, predicted rating), ...]}\n",
    "def get_all_metrics(prediction, actual, k=10):\n",
    "    top_n, org = get_top_n(prediction, actual, k)\n",
    "    precision, recall = get_pr(top_n, org, k)\n",
    "    print(\"Precision : \", precision)\n",
    "    print(\"Recall : \", recall)\n",
    "    get_f_measure(precision, recall)\n",
    "    ndcg = get_ndcg(top_n, org)\n",
    "    print(\"NGCG : \", ndcg)\n",
    "    return top_n"
   ]
  },
  {
   "cell_type": "code",
   "execution_count": 31,
   "metadata": {},
   "outputs": [
    {
     "name": "stdout",
     "output_type": "stream",
     "text": [
      "Precision :  0.02522342995169135\n",
      "Recall :  0.04400369507706472\n",
      "F1 Score:  0.032066162502946034\n",
      "NGCG :  0.13058131170116788\n"
     ]
    }
   ],
   "source": [
    "# User-User metrics\n",
    "\n",
    "topN1 = get_all_metrics(user_prediction, test, 10)"
   ]
  },
  {
   "cell_type": "code",
   "execution_count": 32,
   "metadata": {},
   "outputs": [
    {
     "name": "stdout",
     "output_type": "stream",
     "text": [
      "Precision :  0.008266908212560289\n",
      "Recall :  0.01470398646576176\n",
      "F1 Score:  0.01058352390478685\n",
      "NGCG :  0.03583180922751944\n"
     ]
    }
   ],
   "source": [
    "# Item-Item metrics\n",
    "topN2 = get_all_metrics(item_prediction, test, 10)"
   ]
  },
  {
   "cell_type": "code",
   "execution_count": 36,
   "metadata": {},
   "outputs": [
    {
     "data": {
      "text/plain": [
       "'A2TYZ821XXK2YZ'"
      ]
     },
     "execution_count": 36,
     "metadata": {},
     "output_type": "execute_result"
    }
   ],
   "source": [
    "list(topN1.keys())[0]"
   ]
  },
  {
   "cell_type": "code",
   "execution_count": 37,
   "metadata": {},
   "outputs": [
    {
     "data": {
      "text/plain": [
       "[('B00YIBA8J0', 0.45809318681323985),\n",
       " ('B00UMI98C6', 0.44795339701095693),\n",
       " ('B000W11K5G', 0.39066369337252066),\n",
       " ('B001ESSLIU', 0.3624773421866795),\n",
       " ('B00P0V7GTM', 0.3014035830398362),\n",
       " ('B01F4EPB0K', 0.30140358302414677),\n",
       " ('B00P290EFU', 0.28015945388243246),\n",
       " ('B003FRN28C', 0.27891623455741277),\n",
       " ('B000W1T2TM', 0.27202328012649074),\n",
       " ('B00124F2A6', 0.27202328004669923)]"
      ]
     },
     "execution_count": 37,
     "metadata": {},
     "output_type": "execute_result"
    }
   ],
   "source": [
    "list(topN1.values())[0]"
   ]
  },
  {
   "cell_type": "code",
   "execution_count": 38,
   "metadata": {},
   "outputs": [
    {
     "data": {
      "text/plain": [
       "'A2TYZ821XXK2YZ'"
      ]
     },
     "execution_count": 38,
     "metadata": {},
     "output_type": "execute_result"
    }
   ],
   "source": [
    "list(topN2.keys())[0]"
   ]
  },
  {
   "cell_type": "code",
   "execution_count": 39,
   "metadata": {},
   "outputs": [
    {
     "data": {
      "text/plain": [
       "[('B0014JD6KW', 0.6011294970784609),\n",
       " ('B01FT5U3OI', 0.45574800026305107),\n",
       " ('B00956UPSW', 0.4037119774039456),\n",
       " ('B012KYGZ7K', 0.371591760571503),\n",
       " ('B01G662874', 0.3686566911670817),\n",
       " ('B005D5MA3W', 0.35046555863856826),\n",
       " ('B001ESSLIU', 0.31419840597010934),\n",
       " ('B004QQWO2Q', 0.3050056218403255),\n",
       " ('B01F4EPB0K', 0.2954821769256404),\n",
       " ('B00YIBA8J0', 0.2700155379369341)]"
      ]
     },
     "execution_count": 39,
     "metadata": {},
     "output_type": "execute_result"
    }
   ],
   "source": [
    "list(topN2.values())[0]"
   ]
  },
  {
   "cell_type": "code",
   "execution_count": 40,
   "metadata": {},
   "outputs": [
    {
     "data": {
      "text/html": [
       "<div>\n",
       "<style scoped>\n",
       "    .dataframe tbody tr th:only-of-type {\n",
       "        vertical-align: middle;\n",
       "    }\n",
       "\n",
       "    .dataframe tbody tr th {\n",
       "        vertical-align: top;\n",
       "    }\n",
       "\n",
       "    .dataframe thead th {\n",
       "        text-align: right;\n",
       "    }\n",
       "</style>\n",
       "<table border=\"1\" class=\"dataframe\">\n",
       "  <thead>\n",
       "    <tr style=\"text-align: right;\">\n",
       "      <th></th>\n",
       "      <th>rating</th>\n",
       "      <th>verified</th>\n",
       "      <th>reviewTime</th>\n",
       "      <th>reviewerID</th>\n",
       "      <th>productID</th>\n",
       "      <th>reviewerName</th>\n",
       "      <th>reviewText</th>\n",
       "      <th>summary</th>\n",
       "      <th>unixReviewTime</th>\n",
       "    </tr>\n",
       "  </thead>\n",
       "  <tbody>\n",
       "    <tr>\n",
       "      <th>140904</th>\n",
       "      <td>5</td>\n",
       "      <td>False</td>\n",
       "      <td>08 26, 2014</td>\n",
       "      <td>A1NF9WS7RR82MX</td>\n",
       "      <td>B0014JD6KW</td>\n",
       "      <td>J. Hill</td>\n",
       "      <td>After appearing on Bloodbath's debut EP, \"Bree...</td>\n",
       "      <td>A Bloody Good EP</td>\n",
       "      <td>1409011200</td>\n",
       "    </tr>\n",
       "  </tbody>\n",
       "</table>\n",
       "</div>"
      ],
      "text/plain": [
       "        rating  verified   reviewTime      reviewerID   productID  \\\n",
       "140904       5     False  08 26, 2014  A1NF9WS7RR82MX  B0014JD6KW   \n",
       "\n",
       "       reviewerName                                         reviewText  \\\n",
       "140904      J. Hill  After appearing on Bloodbath's debut EP, \"Bree...   \n",
       "\n",
       "                 summary  unixReviewTime  \n",
       "140904  A Bloody Good EP      1409011200  "
      ]
     },
     "execution_count": 40,
     "metadata": {},
     "output_type": "execute_result"
    }
   ],
   "source": [
    "df.loc[df['productID'] == 'B0014JD6KW']"
   ]
  },
  {
   "cell_type": "code",
   "execution_count": 41,
   "metadata": {},
   "outputs": [
    {
     "data": {
      "text/html": [
       "<div>\n",
       "<style scoped>\n",
       "    .dataframe tbody tr th:only-of-type {\n",
       "        vertical-align: middle;\n",
       "    }\n",
       "\n",
       "    .dataframe tbody tr th {\n",
       "        vertical-align: top;\n",
       "    }\n",
       "\n",
       "    .dataframe thead th {\n",
       "        text-align: right;\n",
       "    }\n",
       "</style>\n",
       "<table border=\"1\" class=\"dataframe\">\n",
       "  <thead>\n",
       "    <tr style=\"text-align: right;\">\n",
       "      <th></th>\n",
       "      <th>rating</th>\n",
       "      <th>verified</th>\n",
       "      <th>reviewTime</th>\n",
       "      <th>reviewerID</th>\n",
       "      <th>productID</th>\n",
       "      <th>reviewerName</th>\n",
       "      <th>reviewText</th>\n",
       "      <th>summary</th>\n",
       "      <th>unixReviewTime</th>\n",
       "    </tr>\n",
       "  </thead>\n",
       "  <tbody>\n",
       "    <tr>\n",
       "      <th>110391</th>\n",
       "      <td>5</td>\n",
       "      <td>True</td>\n",
       "      <td>10 6, 2015</td>\n",
       "      <td>A2HJ421P5A1P6N</td>\n",
       "      <td>B00UMI98C6</td>\n",
       "      <td>marvin feagans</td>\n",
       "      <td>one of the best bands that does not disappoint</td>\n",
       "      <td>Five Stars</td>\n",
       "      <td>1444089600</td>\n",
       "    </tr>\n",
       "    <tr>\n",
       "      <th>110392</th>\n",
       "      <td>5</td>\n",
       "      <td>True</td>\n",
       "      <td>10 1, 2015</td>\n",
       "      <td>A2TZX7JGYO2BED</td>\n",
       "      <td>B00UMI98C6</td>\n",
       "      <td>mike norton</td>\n",
       "      <td>Great</td>\n",
       "      <td>Five Stars</td>\n",
       "      <td>1443657600</td>\n",
       "    </tr>\n",
       "    <tr>\n",
       "      <th>110393</th>\n",
       "      <td>5</td>\n",
       "      <td>True</td>\n",
       "      <td>09 17, 2015</td>\n",
       "      <td>A1SF7FZE2M9KM9</td>\n",
       "      <td>B00UMI98C6</td>\n",
       "      <td>Crimson</td>\n",
       "      <td>The download works great!</td>\n",
       "      <td>The download works great!</td>\n",
       "      <td>1442448000</td>\n",
       "    </tr>\n",
       "    <tr>\n",
       "      <th>110394</th>\n",
       "      <td>5</td>\n",
       "      <td>True</td>\n",
       "      <td>09 14, 2015</td>\n",
       "      <td>A1NQOJEXEAX0PS</td>\n",
       "      <td>B00UMI98C6</td>\n",
       "      <td>woody</td>\n",
       "      <td>Waited a long time for this band's new music. ...</td>\n",
       "      <td>True to style.</td>\n",
       "      <td>1442188800</td>\n",
       "    </tr>\n",
       "    <tr>\n",
       "      <th>110395</th>\n",
       "      <td>5</td>\n",
       "      <td>True</td>\n",
       "      <td>08 28, 2015</td>\n",
       "      <td>A7F2WKMTGENTX</td>\n",
       "      <td>B00UMI98C6</td>\n",
       "      <td>Geff</td>\n",
       "      <td>Good.</td>\n",
       "      <td>Five Stars</td>\n",
       "      <td>1440720000</td>\n",
       "    </tr>\n",
       "    <tr>\n",
       "      <th>110396</th>\n",
       "      <td>5</td>\n",
       "      <td>True</td>\n",
       "      <td>08 23, 2015</td>\n",
       "      <td>A32CPS8Z53G1RM</td>\n",
       "      <td>B00UMI98C6</td>\n",
       "      <td>Christina C.</td>\n",
       "      <td>Awesome first cut from this long awaited album.</td>\n",
       "      <td>Worth the wait!</td>\n",
       "      <td>1440288000</td>\n",
       "    </tr>\n",
       "    <tr>\n",
       "      <th>110397</th>\n",
       "      <td>5</td>\n",
       "      <td>True</td>\n",
       "      <td>08 8, 2015</td>\n",
       "      <td>ACJO6RRTJJY2H</td>\n",
       "      <td>B00UMI98C6</td>\n",
       "      <td>Mrs. Rogers</td>\n",
       "      <td>Breaking Benjamin has always been a favorite o...</td>\n",
       "      <td>Five Stars</td>\n",
       "      <td>1438992000</td>\n",
       "    </tr>\n",
       "    <tr>\n",
       "      <th>110398</th>\n",
       "      <td>5</td>\n",
       "      <td>True</td>\n",
       "      <td>06 21, 2015</td>\n",
       "      <td>A2TMZI8FD935WW</td>\n",
       "      <td>B00UMI98C6</td>\n",
       "      <td>rockdan101</td>\n",
       "      <td>love it</td>\n",
       "      <td>Five Stars</td>\n",
       "      <td>1434844800</td>\n",
       "    </tr>\n",
       "    <tr>\n",
       "      <th>110399</th>\n",
       "      <td>5</td>\n",
       "      <td>True</td>\n",
       "      <td>06 18, 2015</td>\n",
       "      <td>A3EHHUDXBDKLFX</td>\n",
       "      <td>B00UMI98C6</td>\n",
       "      <td>Twitchy</td>\n",
       "      <td>ty</td>\n",
       "      <td>ty</td>\n",
       "      <td>1434585600</td>\n",
       "    </tr>\n",
       "    <tr>\n",
       "      <th>110400</th>\n",
       "      <td>5</td>\n",
       "      <td>True</td>\n",
       "      <td>05 31, 2015</td>\n",
       "      <td>A1MNYP1E1TR6L0</td>\n",
       "      <td>B00UMI98C6</td>\n",
       "      <td>KC</td>\n",
       "      <td>great song!</td>\n",
       "      <td>best band ever</td>\n",
       "      <td>1433030400</td>\n",
       "    </tr>\n",
       "    <tr>\n",
       "      <th>110401</th>\n",
       "      <td>5</td>\n",
       "      <td>True</td>\n",
       "      <td>05 29, 2015</td>\n",
       "      <td>AM6O9LW5WDPAH</td>\n",
       "      <td>B00UMI98C6</td>\n",
       "      <td>Ronnie</td>\n",
       "      <td>Good song</td>\n",
       "      <td>Five Stars</td>\n",
       "      <td>1432857600</td>\n",
       "    </tr>\n",
       "    <tr>\n",
       "      <th>110402</th>\n",
       "      <td>4</td>\n",
       "      <td>True</td>\n",
       "      <td>05 10, 2015</td>\n",
       "      <td>A1C97RD7TJOCFH</td>\n",
       "      <td>B00UMI98C6</td>\n",
       "      <td>Derek</td>\n",
       "      <td>Sounds good.</td>\n",
       "      <td>Four Stars</td>\n",
       "      <td>1431216000</td>\n",
       "    </tr>\n",
       "    <tr>\n",
       "      <th>110403</th>\n",
       "      <td>5</td>\n",
       "      <td>True</td>\n",
       "      <td>05 2, 2015</td>\n",
       "      <td>AZRL486K3PZTI</td>\n",
       "      <td>B00UMI98C6</td>\n",
       "      <td>Subywrx2002</td>\n",
       "      <td>Great song, can't wait for the new album.</td>\n",
       "      <td>finally new music</td>\n",
       "      <td>1430524800</td>\n",
       "    </tr>\n",
       "    <tr>\n",
       "      <th>110404</th>\n",
       "      <td>5</td>\n",
       "      <td>True</td>\n",
       "      <td>04 22, 2015</td>\n",
       "      <td>A3MF5E6KCTRZ1</td>\n",
       "      <td>B00UMI98C6</td>\n",
       "      <td>Matt</td>\n",
       "      <td>Good tune!</td>\n",
       "      <td>Good tune!</td>\n",
       "      <td>1429660800</td>\n",
       "    </tr>\n",
       "    <tr>\n",
       "      <th>110412</th>\n",
       "      <td>5</td>\n",
       "      <td>True</td>\n",
       "      <td>04 4, 2015</td>\n",
       "      <td>AYDCJHBISMT8R</td>\n",
       "      <td>B00UMI98C6</td>\n",
       "      <td>Shane Hughes</td>\n",
       "      <td>Great comeback song for BB.  Can't wait to hea...</td>\n",
       "      <td>Great song</td>\n",
       "      <td>1428105600</td>\n",
       "    </tr>\n",
       "    <tr>\n",
       "      <th>166813</th>\n",
       "      <td>5</td>\n",
       "      <td>True</td>\n",
       "      <td>11 16, 2017</td>\n",
       "      <td>A3TLADIPPL90BA</td>\n",
       "      <td>B00UMI98C6</td>\n",
       "      <td>frank</td>\n",
       "      <td>I like it</td>\n",
       "      <td>Five Stars</td>\n",
       "      <td>1510790400</td>\n",
       "    </tr>\n",
       "    <tr>\n",
       "      <th>166814</th>\n",
       "      <td>5</td>\n",
       "      <td>True</td>\n",
       "      <td>09 8, 2017</td>\n",
       "      <td>AFZSVHBQIO93</td>\n",
       "      <td>B00UMI98C6</td>\n",
       "      <td>NayNay</td>\n",
       "      <td>My husband and I love the music!</td>\n",
       "      <td>Five Stars</td>\n",
       "      <td>1504828800</td>\n",
       "    </tr>\n",
       "    <tr>\n",
       "      <th>166815</th>\n",
       "      <td>5</td>\n",
       "      <td>True</td>\n",
       "      <td>08 17, 2016</td>\n",
       "      <td>A9LSYOOC41S6O</td>\n",
       "      <td>B00UMI98C6</td>\n",
       "      <td>Sandra Arruda</td>\n",
       "      <td>Great song! Love heavy metal music! Rock on!</td>\n",
       "      <td>Five Stars</td>\n",
       "      <td>1471392000</td>\n",
       "    </tr>\n",
       "    <tr>\n",
       "      <th>166816</th>\n",
       "      <td>5</td>\n",
       "      <td>True</td>\n",
       "      <td>07 26, 2016</td>\n",
       "      <td>A2LTPIQG2RWNJW</td>\n",
       "      <td>B00UMI98C6</td>\n",
       "      <td>Alicia Arol</td>\n",
       "      <td>Great song &amp; high quality mp3!!!</td>\n",
       "      <td>High Quality mp3!</td>\n",
       "      <td>1469491200</td>\n",
       "    </tr>\n",
       "    <tr>\n",
       "      <th>166817</th>\n",
       "      <td>5</td>\n",
       "      <td>True</td>\n",
       "      <td>07 12, 2016</td>\n",
       "      <td>A33R1ND1P7S66I</td>\n",
       "      <td>B00UMI98C6</td>\n",
       "      <td>Gina</td>\n",
       "      <td>Love it</td>\n",
       "      <td>Five Stars</td>\n",
       "      <td>1468281600</td>\n",
       "    </tr>\n",
       "  </tbody>\n",
       "</table>\n",
       "</div>"
      ],
      "text/plain": [
       "        rating  verified   reviewTime      reviewerID   productID  \\\n",
       "110391       5      True   10 6, 2015  A2HJ421P5A1P6N  B00UMI98C6   \n",
       "110392       5      True   10 1, 2015  A2TZX7JGYO2BED  B00UMI98C6   \n",
       "110393       5      True  09 17, 2015  A1SF7FZE2M9KM9  B00UMI98C6   \n",
       "110394       5      True  09 14, 2015  A1NQOJEXEAX0PS  B00UMI98C6   \n",
       "110395       5      True  08 28, 2015   A7F2WKMTGENTX  B00UMI98C6   \n",
       "110396       5      True  08 23, 2015  A32CPS8Z53G1RM  B00UMI98C6   \n",
       "110397       5      True   08 8, 2015   ACJO6RRTJJY2H  B00UMI98C6   \n",
       "110398       5      True  06 21, 2015  A2TMZI8FD935WW  B00UMI98C6   \n",
       "110399       5      True  06 18, 2015  A3EHHUDXBDKLFX  B00UMI98C6   \n",
       "110400       5      True  05 31, 2015  A1MNYP1E1TR6L0  B00UMI98C6   \n",
       "110401       5      True  05 29, 2015   AM6O9LW5WDPAH  B00UMI98C6   \n",
       "110402       4      True  05 10, 2015  A1C97RD7TJOCFH  B00UMI98C6   \n",
       "110403       5      True   05 2, 2015   AZRL486K3PZTI  B00UMI98C6   \n",
       "110404       5      True  04 22, 2015   A3MF5E6KCTRZ1  B00UMI98C6   \n",
       "110412       5      True   04 4, 2015   AYDCJHBISMT8R  B00UMI98C6   \n",
       "166813       5      True  11 16, 2017  A3TLADIPPL90BA  B00UMI98C6   \n",
       "166814       5      True   09 8, 2017    AFZSVHBQIO93  B00UMI98C6   \n",
       "166815       5      True  08 17, 2016   A9LSYOOC41S6O  B00UMI98C6   \n",
       "166816       5      True  07 26, 2016  A2LTPIQG2RWNJW  B00UMI98C6   \n",
       "166817       5      True  07 12, 2016  A33R1ND1P7S66I  B00UMI98C6   \n",
       "\n",
       "          reviewerName                                         reviewText  \\\n",
       "110391  marvin feagans     one of the best bands that does not disappoint   \n",
       "110392     mike norton                                              Great   \n",
       "110393         Crimson                          The download works great!   \n",
       "110394           woody  Waited a long time for this band's new music. ...   \n",
       "110395            Geff                                              Good.   \n",
       "110396    Christina C.    Awesome first cut from this long awaited album.   \n",
       "110397     Mrs. Rogers  Breaking Benjamin has always been a favorite o...   \n",
       "110398      rockdan101                                            love it   \n",
       "110399         Twitchy                                                 ty   \n",
       "110400              KC                                        great song!   \n",
       "110401          Ronnie                                          Good song   \n",
       "110402           Derek                                       Sounds good.   \n",
       "110403     Subywrx2002          Great song, can't wait for the new album.   \n",
       "110404            Matt                                         Good tune!   \n",
       "110412    Shane Hughes  Great comeback song for BB.  Can't wait to hea...   \n",
       "166813           frank                                          I like it   \n",
       "166814          NayNay                   My husband and I love the music!   \n",
       "166815   Sandra Arruda       Great song! Love heavy metal music! Rock on!   \n",
       "166816     Alicia Arol                   Great song & high quality mp3!!!   \n",
       "166817            Gina                                            Love it   \n",
       "\n",
       "                          summary  unixReviewTime  \n",
       "110391                 Five Stars      1444089600  \n",
       "110392                 Five Stars      1443657600  \n",
       "110393  The download works great!      1442448000  \n",
       "110394             True to style.      1442188800  \n",
       "110395                 Five Stars      1440720000  \n",
       "110396            Worth the wait!      1440288000  \n",
       "110397                 Five Stars      1438992000  \n",
       "110398                 Five Stars      1434844800  \n",
       "110399                         ty      1434585600  \n",
       "110400             best band ever      1433030400  \n",
       "110401                 Five Stars      1432857600  \n",
       "110402                 Four Stars      1431216000  \n",
       "110403          finally new music      1430524800  \n",
       "110404                 Good tune!      1429660800  \n",
       "110412                 Great song      1428105600  \n",
       "166813                 Five Stars      1510790400  \n",
       "166814                 Five Stars      1504828800  \n",
       "166815                 Five Stars      1471392000  \n",
       "166816          High Quality mp3!      1469491200  \n",
       "166817                 Five Stars      1468281600  "
      ]
     },
     "execution_count": 41,
     "metadata": {},
     "output_type": "execute_result"
    }
   ],
   "source": [
    "df.loc[df['productID'] == 'B00UMI98C6']"
   ]
  },
  {
   "cell_type": "code",
   "execution_count": 42,
   "metadata": {},
   "outputs": [
    {
     "data": {
      "text/html": [
       "<div>\n",
       "<style scoped>\n",
       "    .dataframe tbody tr th:only-of-type {\n",
       "        vertical-align: middle;\n",
       "    }\n",
       "\n",
       "    .dataframe tbody tr th {\n",
       "        vertical-align: top;\n",
       "    }\n",
       "\n",
       "    .dataframe thead th {\n",
       "        text-align: right;\n",
       "    }\n",
       "</style>\n",
       "<table border=\"1\" class=\"dataframe\">\n",
       "  <thead>\n",
       "    <tr style=\"text-align: right;\">\n",
       "      <th></th>\n",
       "      <th>rating</th>\n",
       "      <th>verified</th>\n",
       "      <th>reviewTime</th>\n",
       "      <th>reviewerID</th>\n",
       "      <th>productID</th>\n",
       "      <th>reviewerName</th>\n",
       "      <th>reviewText</th>\n",
       "      <th>summary</th>\n",
       "      <th>unixReviewTime</th>\n",
       "    </tr>\n",
       "  </thead>\n",
       "  <tbody>\n",
       "    <tr>\n",
       "      <th>0</th>\n",
       "      <td>5</td>\n",
       "      <td>True</td>\n",
       "      <td>06 3, 2013</td>\n",
       "      <td>A2TYZ821XXK2YZ</td>\n",
       "      <td>3426958910</td>\n",
       "      <td>Garrett</td>\n",
       "      <td>This is awesome to listen to, A must-have for ...</td>\n",
       "      <td>Slayer Rules!</td>\n",
       "      <td>1370217600</td>\n",
       "    </tr>\n",
       "    <tr>\n",
       "      <th>102914</th>\n",
       "      <td>4</td>\n",
       "      <td>True</td>\n",
       "      <td>07 31, 2015</td>\n",
       "      <td>A2TYZ821XXK2YZ</td>\n",
       "      <td>B00MYPUDMY</td>\n",
       "      <td>Garrett</td>\n",
       "      <td>Still better than ever. One of my all time fav...</td>\n",
       "      <td>Maggot4Life</td>\n",
       "      <td>1438300800</td>\n",
       "    </tr>\n",
       "    <tr>\n",
       "      <th>112370</th>\n",
       "      <td>5</td>\n",
       "      <td>True</td>\n",
       "      <td>09 17, 2017</td>\n",
       "      <td>A2TYZ821XXK2YZ</td>\n",
       "      <td>B00YI4B79W</td>\n",
       "      <td>Garrett</td>\n",
       "      <td>This band had to grow on me and I'm glad I hav...</td>\n",
       "      <td>Nameless Ghoul</td>\n",
       "      <td>1505606400</td>\n",
       "    </tr>\n",
       "    <tr>\n",
       "      <th>112416</th>\n",
       "      <td>5</td>\n",
       "      <td>True</td>\n",
       "      <td>02 16, 2016</td>\n",
       "      <td>A2TYZ821XXK2YZ</td>\n",
       "      <td>B00YIB0R9Q</td>\n",
       "      <td>Garrett</td>\n",
       "      <td>Even though I enjoyed \"Atlas\" I think \"Ire\" ve...</td>\n",
       "      <td>BRUTAL</td>\n",
       "      <td>1455580800</td>\n",
       "    </tr>\n",
       "    <tr>\n",
       "      <th>113656</th>\n",
       "      <td>5</td>\n",
       "      <td>True</td>\n",
       "      <td>02 16, 2016</td>\n",
       "      <td>A2TYZ821XXK2YZ</td>\n",
       "      <td>B012BPYS7M</td>\n",
       "      <td>Garrett</td>\n",
       "      <td>No Surprise. Sevendust made yet again another ...</td>\n",
       "      <td>Support 7D</td>\n",
       "      <td>1455580800</td>\n",
       "    </tr>\n",
       "    <tr>\n",
       "      <th>115369</th>\n",
       "      <td>5</td>\n",
       "      <td>True</td>\n",
       "      <td>01 23, 2016</td>\n",
       "      <td>A2TYZ821XXK2YZ</td>\n",
       "      <td>B015U2LLIW</td>\n",
       "      <td>Garrett</td>\n",
       "      <td>Let's just say I'm a huge Chris Adler fan so I...</td>\n",
       "      <td>Still thrashing</td>\n",
       "      <td>1453507200</td>\n",
       "    </tr>\n",
       "    <tr>\n",
       "      <th>117256</th>\n",
       "      <td>5</td>\n",
       "      <td>True</td>\n",
       "      <td>03 25, 2016</td>\n",
       "      <td>A2TYZ821XXK2YZ</td>\n",
       "      <td>B01AUA1MC4</td>\n",
       "      <td>Garrett</td>\n",
       "      <td>I am not even halfway through this album yet b...</td>\n",
       "      <td>SET SAIL ON METAL!</td>\n",
       "      <td>1458864000</td>\n",
       "    </tr>\n",
       "    <tr>\n",
       "      <th>118878</th>\n",
       "      <td>5</td>\n",
       "      <td>True</td>\n",
       "      <td>06 3, 2016</td>\n",
       "      <td>A2TYZ821XXK2YZ</td>\n",
       "      <td>B01DQ6ON70</td>\n",
       "      <td>Garrett</td>\n",
       "      <td>I've listened to this album probably 5 times s...</td>\n",
       "      <td>Volbeat has done it again</td>\n",
       "      <td>1464912000</td>\n",
       "    </tr>\n",
       "    <tr>\n",
       "      <th>118880</th>\n",
       "      <td>5</td>\n",
       "      <td>True</td>\n",
       "      <td>05 1, 2016</td>\n",
       "      <td>A2TYZ821XXK2YZ</td>\n",
       "      <td>B01DQ6ONVG</td>\n",
       "      <td>Garrett</td>\n",
       "      <td>Volbeat always outdo themselves!!</td>\n",
       "      <td>Perfextion</td>\n",
       "      <td>1462060800</td>\n",
       "    </tr>\n",
       "    <tr>\n",
       "      <th>119109</th>\n",
       "      <td>5</td>\n",
       "      <td>True</td>\n",
       "      <td>03 27, 2017</td>\n",
       "      <td>A2TYZ821XXK2YZ</td>\n",
       "      <td>B01EDA9EPE</td>\n",
       "      <td>Garrett</td>\n",
       "      <td>This album is great. If I had to pick a favori...</td>\n",
       "      <td>Perfection</td>\n",
       "      <td>1490572800</td>\n",
       "    </tr>\n",
       "  </tbody>\n",
       "</table>\n",
       "</div>"
      ],
      "text/plain": [
       "        rating  verified   reviewTime      reviewerID   productID  \\\n",
       "0            5      True   06 3, 2013  A2TYZ821XXK2YZ  3426958910   \n",
       "102914       4      True  07 31, 2015  A2TYZ821XXK2YZ  B00MYPUDMY   \n",
       "112370       5      True  09 17, 2017  A2TYZ821XXK2YZ  B00YI4B79W   \n",
       "112416       5      True  02 16, 2016  A2TYZ821XXK2YZ  B00YIB0R9Q   \n",
       "113656       5      True  02 16, 2016  A2TYZ821XXK2YZ  B012BPYS7M   \n",
       "115369       5      True  01 23, 2016  A2TYZ821XXK2YZ  B015U2LLIW   \n",
       "117256       5      True  03 25, 2016  A2TYZ821XXK2YZ  B01AUA1MC4   \n",
       "118878       5      True   06 3, 2016  A2TYZ821XXK2YZ  B01DQ6ON70   \n",
       "118880       5      True   05 1, 2016  A2TYZ821XXK2YZ  B01DQ6ONVG   \n",
       "119109       5      True  03 27, 2017  A2TYZ821XXK2YZ  B01EDA9EPE   \n",
       "\n",
       "       reviewerName                                         reviewText  \\\n",
       "0           Garrett  This is awesome to listen to, A must-have for ...   \n",
       "102914      Garrett  Still better than ever. One of my all time fav...   \n",
       "112370      Garrett  This band had to grow on me and I'm glad I hav...   \n",
       "112416      Garrett  Even though I enjoyed \"Atlas\" I think \"Ire\" ve...   \n",
       "113656      Garrett  No Surprise. Sevendust made yet again another ...   \n",
       "115369      Garrett  Let's just say I'm a huge Chris Adler fan so I...   \n",
       "117256      Garrett  I am not even halfway through this album yet b...   \n",
       "118878      Garrett  I've listened to this album probably 5 times s...   \n",
       "118880      Garrett                  Volbeat always outdo themselves!!   \n",
       "119109      Garrett  This album is great. If I had to pick a favori...   \n",
       "\n",
       "                          summary  unixReviewTime  \n",
       "0                   Slayer Rules!      1370217600  \n",
       "102914                Maggot4Life      1438300800  \n",
       "112370             Nameless Ghoul      1505606400  \n",
       "112416                     BRUTAL      1455580800  \n",
       "113656                 Support 7D      1455580800  \n",
       "115369            Still thrashing      1453507200  \n",
       "117256         SET SAIL ON METAL!      1458864000  \n",
       "118878  Volbeat has done it again      1464912000  \n",
       "118880                 Perfextion      1462060800  \n",
       "119109                 Perfection      1490572800  "
      ]
     },
     "execution_count": 42,
     "metadata": {},
     "output_type": "execute_result"
    }
   ],
   "source": [
    "df.loc[df['reviewerID'] == 'A2TYZ821XXK2YZ']"
   ]
  },
  {
   "cell_type": "code",
   "execution_count": null,
   "metadata": {},
   "outputs": [],
   "source": []
  }
 ],
 "metadata": {
  "colab": {
   "name": "Memory based CF.ipynb",
   "provenance": []
  },
  "kernelspec": {
   "display_name": "Python 3",
   "language": "python",
   "name": "python3"
  },
  "language_info": {
   "codemirror_mode": {
    "name": "ipython",
    "version": 3
   },
   "file_extension": ".py",
   "mimetype": "text/x-python",
   "name": "python",
   "nbconvert_exporter": "python",
   "pygments_lexer": "ipython3",
   "version": "3.8.8"
  }
 },
 "nbformat": 4,
 "nbformat_minor": 4
}
